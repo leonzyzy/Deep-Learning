{
 "cells": [
  {
   "cell_type": "code",
   "execution_count": 1,
   "metadata": {},
   "outputs": [],
   "source": [
    "import torch\n",
    "import torch.nn as nn\n",
    "import numpy as np\n",
    "import matplotlib.pyplot as plt\n",
    "%matplotlib inline"
   ]
  },
  {
   "cell_type": "code",
   "execution_count": 2,
   "metadata": {},
   "outputs": [
    {
     "data": {
      "text/plain": [
       "(11, 1)"
      ]
     },
     "execution_count": 2,
     "metadata": {},
     "output_type": "execute_result"
    }
   ],
   "source": [
    "# design feature X and label y\n",
    "x_values = [i for i in range(11)]\n",
    "x_train = np.array(x_values,dtype=np.float32)\n",
    "x_train = x_train.reshape(-1,1)\n",
    "x_train.shape"
   ]
  },
  {
   "cell_type": "code",
   "execution_count": 3,
   "metadata": {},
   "outputs": [],
   "source": [
    "y_values = [2*i + 1 for i in x_values]\n",
    "y_train = np.array(y_values,dtype=np.float32)\n",
    "y_train = y_train.reshape(-1,1)"
   ]
  },
  {
   "cell_type": "code",
   "execution_count": 4,
   "metadata": {},
   "outputs": [],
   "source": [
    "# linear regression\n",
    "class LinearRegression(nn.Module):\n",
    "    def __init__(self, input_dim, output_dim):\n",
    "        super(LinearRegression, self).__init__()\n",
    "        self.linear = nn.Linear(input_dim, output_dim)\n",
    "    \n",
    "    def forward(self, x):\n",
    "        out = self.linear(x)\n",
    "        return out\n",
    "    \n",
    "input_dim = 1\n",
    "output_dim = 1\n",
    "model = LinearRegression(input_dim, output_dim)"
   ]
  },
  {
   "cell_type": "code",
   "execution_count": 5,
   "metadata": {},
   "outputs": [
    {
     "name": "stdout",
     "output_type": "stream",
     "text": [
      "epoch: 50, cost: 0.00010776103590615094\n",
      "epoch: 100, cost: 6.14638629485853e-05\n",
      "epoch: 150, cost: 3.505556742311455e-05\n",
      "epoch: 200, cost: 1.9994358808617108e-05\n",
      "epoch: 250, cost: 1.1405395525798667e-05\n",
      "epoch: 300, cost: 6.505518285848666e-06\n",
      "epoch: 350, cost: 3.7098900520504685e-06\n",
      "epoch: 400, cost: 2.1163793917367e-06\n",
      "epoch: 450, cost: 1.206511001328181e-06\n",
      "epoch: 500, cost: 6.879532179482339e-07\n",
      "epoch: 550, cost: 3.9234666360243864e-07\n",
      "epoch: 600, cost: 2.2407317601391696e-07\n",
      "epoch: 650, cost: 1.2758685841163242e-07\n",
      "epoch: 700, cost: 7.274923063960159e-08\n",
      "epoch: 750, cost: 4.161438482697122e-08\n",
      "epoch: 800, cost: 2.374633645274571e-08\n",
      "epoch: 850, cost: 1.3501884055244773e-08\n",
      "epoch: 900, cost: 7.694350934173144e-09\n",
      "epoch: 950, cost: 4.3955723505462174e-09\n",
      "epoch: 1000, cost: 2.5105271195258183e-09\n"
     ]
    }
   ],
   "source": [
    "# define optimizer and loss\n",
    "epochs = 1000\n",
    "eta = 0.01\n",
    "optimizer = torch.optim.SGD(model.parameters(), eta)\n",
    "loss = nn.MSELoss()\n",
    "costs = []\n",
    "# training process\n",
    "for epoch in range(epochs):\n",
    "    epoch += 1\n",
    "    \n",
    "    # conver training data into tensor\n",
    "    inputs = torch.from_numpy(x_train)\n",
    "    labels = torch.from_numpy(y_train)\n",
    "    \n",
    "    # clean gradient\n",
    "    optimizer.zero_grad()\n",
    "    \n",
    "    # forward\n",
    "    outputs = model.forward(inputs)\n",
    "    \n",
    "    # compute cost\n",
    "    cost = loss(outputs,labels)\n",
    "    costs.append(cost.detach().numpy())\n",
    "    # backward\n",
    "    cost.backward()\n",
    "    \n",
    "    # updating weights\n",
    "    optimizer.step()\n",
    "    \n",
    "    # print training process\n",
    "    if epoch % 50 == 0:\n",
    "        print('epoch: {}, cost: {}'.format(epoch,cost))   "
   ]
  },
  {
   "cell_type": "code",
   "execution_count": 6,
   "metadata": {},
   "outputs": [
    {
     "data": {
      "text/plain": [
       "array([[ 0.9999067],\n",
       "       [ 2.9999201],\n",
       "       [ 4.9999332],\n",
       "       [ 6.9999466],\n",
       "       [ 8.99996  ],\n",
       "       [10.999973 ],\n",
       "       [12.999987 ],\n",
       "       [15.       ],\n",
       "       [17.000013 ],\n",
       "       [19.000027 ],\n",
       "       [21.00004  ]], dtype=float32)"
      ]
     },
     "execution_count": 6,
     "metadata": {},
     "output_type": "execute_result"
    }
   ],
   "source": [
    "# predict\n",
    "predicted = model(torch.from_numpy(x_train).requires_grad_()).data.numpy()\n",
    "predicted"
   ]
  },
  {
   "cell_type": "code",
   "execution_count": 7,
   "metadata": {},
   "outputs": [],
   "source": [
    "torch.save(model.state_dict(),'model.pkl')"
   ]
  },
  {
   "cell_type": "code",
   "execution_count": 8,
   "metadata": {},
   "outputs": [
    {
     "data": {
      "text/plain": [
       "<All keys matched successfully>"
      ]
     },
     "execution_count": 8,
     "metadata": {},
     "output_type": "execute_result"
    }
   ],
   "source": [
    "model.load_state_dict(torch.load('model.pkl'))"
   ]
  }
 ],
 "metadata": {
  "kernelspec": {
   "display_name": "Python 3",
   "language": "python",
   "name": "python3"
  },
  "language_info": {
   "codemirror_mode": {
    "name": "ipython",
    "version": 3
   },
   "file_extension": ".py",
   "mimetype": "text/x-python",
   "name": "python",
   "nbconvert_exporter": "python",
   "pygments_lexer": "ipython3",
   "version": "3.7.3"
  }
 },
 "nbformat": 4,
 "nbformat_minor": 2
}
