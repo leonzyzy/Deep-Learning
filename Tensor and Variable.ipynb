{
 "cells": [
  {
   "cell_type": "code",
   "execution_count": 1,
   "metadata": {},
   "outputs": [],
   "source": [
    "import torch\n",
    "import numpy as np"
   ]
  },
  {
   "cell_type": "code",
   "execution_count": 2,
   "metadata": {},
   "outputs": [],
   "source": [
    "# define a numpy ndarray\n",
    "numpy_tensor = np.random.randn(10,20)"
   ]
  },
  {
   "cell_type": "code",
   "execution_count": 3,
   "metadata": {},
   "outputs": [
    {
     "data": {
      "text/plain": [
       "(10, 20)"
      ]
     },
     "execution_count": 3,
     "metadata": {},
     "output_type": "execute_result"
    }
   ],
   "source": [
    "numpy_tensor.shape"
   ]
  },
  {
   "cell_type": "code",
   "execution_count": 4,
   "metadata": {},
   "outputs": [],
   "source": [
    "# transfer numpy to torch\n",
    "torch_tensor1 = torch.Tensor(numpy_tensor)\n",
    "torch_tensor2 = torch.from_numpy(numpy_tensor)"
   ]
  },
  {
   "cell_type": "code",
   "execution_count": 5,
   "metadata": {},
   "outputs": [],
   "source": [
    "# transfer torch to numpy\n",
    "numpy_array = torch_tensor1.numpy() # if is on cpu\n",
    "# numpy_array = torch_tensor1.cpu().numpy() # if is on GPU\n",
    "# tensor cannot transfer to numpy if is on gpu, you must transfer to cpu first"
   ]
  },
  {
   "cell_type": "code",
   "execution_count": 6,
   "metadata": {},
   "outputs": [
    {
     "data": {
      "text/plain": [
       "2"
      ]
     },
     "execution_count": 6,
     "metadata": {},
     "output_type": "execute_result"
    }
   ],
   "source": [
    "torch_tensor1.dim()"
   ]
  },
  {
   "cell_type": "code",
   "execution_count": 7,
   "metadata": {},
   "outputs": [
    {
     "data": {
      "text/plain": [
       "'torch.FloatTensor'"
      ]
     },
     "execution_count": 7,
     "metadata": {},
     "output_type": "execute_result"
    }
   ],
   "source": [
    "torch_tensor1.type()"
   ]
  },
  {
   "cell_type": "code",
   "execution_count": 8,
   "metadata": {},
   "outputs": [
    {
     "data": {
      "text/plain": [
       "200"
      ]
     },
     "execution_count": 8,
     "metadata": {},
     "output_type": "execute_result"
    }
   ],
   "source": [
    "torch_tensor1.numel()"
   ]
  },
  {
   "cell_type": "code",
   "execution_count": 9,
   "metadata": {},
   "outputs": [
    {
     "name": "stdout",
     "output_type": "stream",
     "text": [
      "float64\n"
     ]
    }
   ],
   "source": [
    "# exericise\n",
    "x = torch.randn(3,2)\n",
    "x = x.type(torch.DoubleTensor)\n",
    "x_array = x.numpy()\n",
    "print(x_array.dtype)"
   ]
  },
  {
   "cell_type": "code",
   "execution_count": 10,
   "metadata": {},
   "outputs": [],
   "source": [
    "x = torch.ones(2,2)"
   ]
  },
  {
   "cell_type": "code",
   "execution_count": 11,
   "metadata": {},
   "outputs": [],
   "source": [
    "x = torch.randn(4,3)"
   ]
  },
  {
   "cell_type": "code",
   "execution_count": 12,
   "metadata": {},
   "outputs": [
    {
     "name": "stdout",
     "output_type": "stream",
     "text": [
      "tensor([[ 0.7401,  0.1388,  0.2688],\n",
      "        [-0.7769, -0.6346,  0.3261],\n",
      "        [-0.9913,  0.3047, -0.7221],\n",
      "        [-1.5253,  0.3211,  0.5887]])\n"
     ]
    }
   ],
   "source": [
    "print(x)"
   ]
  },
  {
   "cell_type": "code",
   "execution_count": 13,
   "metadata": {},
   "outputs": [],
   "source": [
    "# get max and min\n",
    "max_value, max_index = torch.max(x,dim=1)"
   ]
  },
  {
   "cell_type": "code",
   "execution_count": 14,
   "metadata": {},
   "outputs": [
    {
     "name": "stdout",
     "output_type": "stream",
     "text": [
      "tensor([0.7401, 0.3261, 0.3047, 0.5887])\n",
      "tensor([0, 2, 1, 2])\n"
     ]
    }
   ],
   "source": [
    "print(max_value)\n",
    "print(max_index)"
   ]
  },
  {
   "cell_type": "code",
   "execution_count": 15,
   "metadata": {},
   "outputs": [
    {
     "name": "stdout",
     "output_type": "stream",
     "text": [
      "tensor([ 1.1477, -1.0855, -1.4087, -0.6154])\n"
     ]
    }
   ],
   "source": [
    "# get sum of x\n",
    "sum_x = torch.sum(x,dim=1)\n",
    "print(sum_x)"
   ]
  },
  {
   "cell_type": "code",
   "execution_count": 16,
   "metadata": {},
   "outputs": [
    {
     "name": "stdout",
     "output_type": "stream",
     "text": [
      "torch.Size([4, 3])\n",
      "torch.Size([1, 4, 3])\n"
     ]
    }
   ],
   "source": [
    "# add dimension\n",
    "print(x.shape)\n",
    "x = x.unsqueeze(0)\n",
    "print(x.shape)"
   ]
  },
  {
   "cell_type": "code",
   "execution_count": 17,
   "metadata": {},
   "outputs": [
    {
     "name": "stdout",
     "output_type": "stream",
     "text": [
      "torch.Size([1, 1, 4, 3])\n"
     ]
    }
   ],
   "source": [
    "x = x.unsqueeze(1)\n",
    "print(x.shape)"
   ]
  },
  {
   "cell_type": "code",
   "execution_count": 18,
   "metadata": {},
   "outputs": [
    {
     "data": {
      "text/plain": [
       "torch.Size([1, 4, 3])"
      ]
     },
     "execution_count": 18,
     "metadata": {},
     "output_type": "execute_result"
    }
   ],
   "source": [
    "# reduce dimension\n",
    "x = x.squeeze(0)\n",
    "x.shape"
   ]
  },
  {
   "cell_type": "code",
   "execution_count": 19,
   "metadata": {},
   "outputs": [
    {
     "data": {
      "text/plain": [
       "torch.Size([4, 3])"
      ]
     },
     "execution_count": 19,
     "metadata": {},
     "output_type": "execute_result"
    }
   ],
   "source": [
    "x = x.squeeze() # reduce all dim\n",
    "x.shape"
   ]
  },
  {
   "cell_type": "code",
   "execution_count": 20,
   "metadata": {},
   "outputs": [
    {
     "name": "stdout",
     "output_type": "stream",
     "text": [
      "torch.Size([3, 4, 5])\n"
     ]
    }
   ],
   "source": [
    "x = torch.randn(3,4,5)\n",
    "print(x.shape)"
   ]
  },
  {
   "cell_type": "code",
   "execution_count": 21,
   "metadata": {},
   "outputs": [
    {
     "name": "stdout",
     "output_type": "stream",
     "text": [
      "torch.Size([4, 3, 5])\n",
      "torch.Size([5, 3, 4])\n"
     ]
    }
   ],
   "source": [
    "x = x.permute(1,0,2) # reorder dim \n",
    "print(x.shape)\n",
    "x = x.transpose(0,2) # switch dim\n",
    "print(x.shape) "
   ]
  },
  {
   "cell_type": "code",
   "execution_count": 22,
   "metadata": {},
   "outputs": [
    {
     "name": "stdout",
     "output_type": "stream",
     "text": [
      "torch.Size([3, 4, 5])\n",
      "torch.Size([12, 5])\n",
      "torch.Size([3, 20])\n"
     ]
    }
   ],
   "source": [
    "# view can use to reshape tensor\n",
    "x = torch.randn(3,4,5)\n",
    "print(x.shape)\n",
    "\n",
    "x = x.view(-1,5) # -1 means random dim, 5 means second dim is 5\n",
    "print(x.shape)\n",
    "\n",
    "x = x.view(3,20) # re shape to 3x20\n",
    "print(x.shape)"
   ]
  },
  {
   "cell_type": "code",
   "execution_count": 23,
   "metadata": {},
   "outputs": [
    {
     "name": "stdout",
     "output_type": "stream",
     "text": [
      "tensor([[-0.1963,  0.0677, -0.3183],\n",
      "        [-0.4452, -0.4715, -1.6934],\n",
      "        [-0.7134, -0.3806, -0.2055]])\n",
      "tensor([[ 0.4666, -0.3352,  0.5884],\n",
      "        [-0.3566, -0.6051, -0.2945],\n",
      "        [ 1.8451, -0.8873, -0.4383]])\n",
      "tensor([[ 0.2703, -0.2675,  0.2701],\n",
      "        [-0.8018, -1.0766, -1.9879],\n",
      "        [ 1.1317, -1.2680, -0.6438]])\n"
     ]
    }
   ],
   "source": [
    "x = torch.randn(3,3)\n",
    "y = torch.randn(3,3)\n",
    "z = x + y\n",
    "print(x)\n",
    "print(y)\n",
    "print(z)"
   ]
  },
  {
   "cell_type": "code",
   "execution_count": 24,
   "metadata": {},
   "outputs": [
    {
     "name": "stdout",
     "output_type": "stream",
     "text": [
      "torch.Size([3, 3])\n",
      "torch.Size([1, 3, 3])\n",
      "torch.Size([3, 1, 3])\n"
     ]
    }
   ],
   "source": [
    "# inplace can directly work on tensor instead create a new space\n",
    "x = torch.ones(3,3)\n",
    "print(x.shape) # 3x3\n",
    "\n",
    "# unsqueeze, add one dim\n",
    "x.unsqueeze_(0)\n",
    "print(x.shape)\n",
    "\n",
    "# transpose for inplace\n",
    "x.transpose_(1,0)\n",
    "print(x.shape)"
   ]
  },
  {
   "cell_type": "code",
   "execution_count": 25,
   "metadata": {},
   "outputs": [
    {
     "name": "stdout",
     "output_type": "stream",
     "text": [
      "tensor([[2., 2., 2.],\n",
      "        [2., 2., 2.],\n",
      "        [2., 2., 2.]])\n"
     ]
    }
   ],
   "source": [
    "x = torch.ones(3,3)\n",
    "y = torch.ones(3,3)\n",
    "\n",
    "# add for inplace\n",
    "x.add_(y)\n",
    "print(x)"
   ]
  },
  {
   "cell_type": "code",
   "execution_count": 26,
   "metadata": {},
   "outputs": [
    {
     "name": "stdout",
     "output_type": "stream",
     "text": [
      "tensor([[1., 1., 1., 1.],\n",
      "        [1., 2., 2., 1.],\n",
      "        [1., 2., 2., 1.],\n",
      "        [1., 1., 1., 1.]])\n"
     ]
    }
   ],
   "source": [
    "# create a float32, 4x4 with value 1 matrix, make mid part of 2x2 matrix with value 2\n",
    "x = torch.ones(4,4)\n",
    "x[1:3,1:3] = 2\n",
    "print(x)"
   ]
  },
  {
   "cell_type": "code",
   "execution_count": 27,
   "metadata": {},
   "outputs": [],
   "source": [
    "# Variable library, variable can be used to gradient and any computing\n",
    "from torch.autograd import Variable"
   ]
  },
  {
   "cell_type": "code",
   "execution_count": 28,
   "metadata": {},
   "outputs": [],
   "source": [
    "# define x and y\n",
    "x_tensor = torch.randn(10,5)\n",
    "y_tensor = torch.randn(10,5)\n",
    "\n",
    "# change x and y to Variable\n",
    "x = Variable(x_tensor,requires_grad = True) # default is False for gradient computing\n",
    "y = Variable(y_tensor,requires_grad = True)"
   ]
  },
  {
   "cell_type": "code",
   "execution_count": 29,
   "metadata": {},
   "outputs": [
    {
     "data": {
      "text/plain": [
       "tensor([[-0.7712, -0.7839,  0.4109, -0.9062, -1.1328],\n",
       "        [-0.6476, -0.5942, -0.6395, -0.5944, -0.4326],\n",
       "        [ 2.4189, -1.2772,  0.9217,  1.6366,  0.1529],\n",
       "        [-0.6225,  0.2183, -1.6846, -0.4087, -0.9298],\n",
       "        [-1.0261, -0.4803,  1.1796, -0.6097,  1.6232],\n",
       "        [ 0.4040,  0.0857,  0.5899,  0.3641,  1.6551],\n",
       "        [ 0.2213,  1.3893,  0.3508,  0.0155, -0.1462],\n",
       "        [-0.8073, -0.6651,  0.3530, -0.1435,  1.2507],\n",
       "        [-1.0479,  1.2841,  0.5221,  3.3117,  0.4125],\n",
       "        [-0.0973,  0.4449,  1.0721, -1.5630,  0.4907]])"
      ]
     },
     "execution_count": 29,
     "metadata": {},
     "output_type": "execute_result"
    }
   ],
   "source": [
    "x_tensor"
   ]
  },
  {
   "cell_type": "code",
   "execution_count": 30,
   "metadata": {},
   "outputs": [
    {
     "data": {
      "text/plain": [
       "tensor([[-0.7712, -0.7839,  0.4109, -0.9062, -1.1328],\n",
       "        [-0.6476, -0.5942, -0.6395, -0.5944, -0.4326],\n",
       "        [ 2.4189, -1.2772,  0.9217,  1.6366,  0.1529],\n",
       "        [-0.6225,  0.2183, -1.6846, -0.4087, -0.9298],\n",
       "        [-1.0261, -0.4803,  1.1796, -0.6097,  1.6232],\n",
       "        [ 0.4040,  0.0857,  0.5899,  0.3641,  1.6551],\n",
       "        [ 0.2213,  1.3893,  0.3508,  0.0155, -0.1462],\n",
       "        [-0.8073, -0.6651,  0.3530, -0.1435,  1.2507],\n",
       "        [-1.0479,  1.2841,  0.5221,  3.3117,  0.4125],\n",
       "        [-0.0973,  0.4449,  1.0721, -1.5630,  0.4907]], requires_grad=True)"
      ]
     },
     "execution_count": 30,
     "metadata": {},
     "output_type": "execute_result"
    }
   ],
   "source": [
    "x"
   ]
  },
  {
   "cell_type": "code",
   "execution_count": 31,
   "metadata": {},
   "outputs": [
    {
     "data": {
      "text/plain": [
       "tensor([[ 5.9615e-01, -5.6166e-01, -6.2805e-02, -1.1026e-02,  8.1156e-01],\n",
       "        [-1.1450e+00, -8.5012e-01, -5.3636e-03,  9.7425e-02,  4.3636e-01],\n",
       "        [-9.1270e-01, -1.9881e-01,  1.9575e-01, -1.6785e+00,  2.9871e-01],\n",
       "        [-1.1734e+00,  3.0056e-01,  1.5261e+00,  1.9138e+00,  3.3328e-01],\n",
       "        [ 1.4146e+00,  1.2869e+00, -3.4578e-01,  1.1452e+00, -1.4659e-01],\n",
       "        [ 9.2307e-01,  1.3098e+00, -2.1884e+00, -1.0055e-01, -1.0560e-01],\n",
       "        [ 5.7744e-01, -2.9881e+00,  2.9203e-03,  4.8728e-01, -2.0900e-01],\n",
       "        [-6.8064e-01, -1.8849e-01, -1.4033e-02,  2.8841e-01,  1.2400e+00],\n",
       "        [-5.6516e-01, -1.4018e-01,  1.2789e+00,  1.0602e+00,  1.2621e+00],\n",
       "        [-1.1304e+00, -2.9121e-01,  1.0679e-01, -2.4331e-01, -2.6870e-01]],\n",
       "       requires_grad=True)"
      ]
     },
     "execution_count": 31,
     "metadata": {},
     "output_type": "execute_result"
    }
   ],
   "source": [
    "y"
   ]
  },
  {
   "cell_type": "code",
   "execution_count": 32,
   "metadata": {},
   "outputs": [
    {
     "data": {
      "text/plain": [
       "tensor([[-1.7505e-01, -1.3456e+00,  3.4808e-01, -9.1721e-01, -3.2121e-01],\n",
       "        [-1.7926e+00, -1.4443e+00, -6.4484e-01, -4.9700e-01,  3.7362e-03],\n",
       "        [ 1.5062e+00, -1.4760e+00,  1.1174e+00, -4.1923e-02,  4.5157e-01],\n",
       "        [-1.7959e+00,  5.1890e-01, -1.5844e-01,  1.5051e+00, -5.9652e-01],\n",
       "        [ 3.8849e-01,  8.0663e-01,  8.3382e-01,  5.3544e-01,  1.4766e+00],\n",
       "        [ 1.3270e+00,  1.3955e+00, -1.5985e+00,  2.6357e-01,  1.5495e+00],\n",
       "        [ 7.9878e-01, -1.5988e+00,  3.5376e-01,  5.0275e-01, -3.5518e-01],\n",
       "        [-1.4879e+00, -8.5362e-01,  3.3898e-01,  1.4489e-01,  2.4906e+00],\n",
       "        [-1.6130e+00,  1.1439e+00,  1.8010e+00,  4.3719e+00,  1.6746e+00],\n",
       "        [-1.2277e+00,  1.5364e-01,  1.1789e+00, -1.8063e+00,  2.2198e-01]],\n",
       "       grad_fn=<AddBackward0>)"
      ]
     },
     "execution_count": 32,
     "metadata": {},
     "output_type": "execute_result"
    }
   ],
   "source": [
    "x+y"
   ]
  },
  {
   "cell_type": "code",
   "execution_count": 33,
   "metadata": {},
   "outputs": [],
   "source": [
    "z = torch.sum(x+y)"
   ]
  },
  {
   "cell_type": "code",
   "execution_count": 34,
   "metadata": {},
   "outputs": [
    {
     "name": "stdout",
     "output_type": "stream",
     "text": [
      "tensor(7.4557)\n",
      "<SumBackward0 object at 0x108408630>\n"
     ]
    }
   ],
   "source": [
    "print(z.data)\n",
    "print(z.grad_fn)"
   ]
  },
  {
   "cell_type": "code",
   "execution_count": 35,
   "metadata": {},
   "outputs": [],
   "source": [
    "# find gradient of x and y\n",
    "z.backward()"
   ]
  },
  {
   "cell_type": "code",
   "execution_count": 36,
   "metadata": {},
   "outputs": [
    {
     "name": "stdout",
     "output_type": "stream",
     "text": [
      "tensor([[1., 1., 1., 1., 1.],\n",
      "        [1., 1., 1., 1., 1.],\n",
      "        [1., 1., 1., 1., 1.],\n",
      "        [1., 1., 1., 1., 1.],\n",
      "        [1., 1., 1., 1., 1.],\n",
      "        [1., 1., 1., 1., 1.],\n",
      "        [1., 1., 1., 1., 1.],\n",
      "        [1., 1., 1., 1., 1.],\n",
      "        [1., 1., 1., 1., 1.],\n",
      "        [1., 1., 1., 1., 1.]])\n",
      "tensor([[1., 1., 1., 1., 1.],\n",
      "        [1., 1., 1., 1., 1.],\n",
      "        [1., 1., 1., 1., 1.],\n",
      "        [1., 1., 1., 1., 1.],\n",
      "        [1., 1., 1., 1., 1.],\n",
      "        [1., 1., 1., 1., 1.],\n",
      "        [1., 1., 1., 1., 1.],\n",
      "        [1., 1., 1., 1., 1.],\n",
      "        [1., 1., 1., 1., 1.],\n",
      "        [1., 1., 1., 1., 1.]])\n"
     ]
    }
   ],
   "source": [
    "print(x.grad)\n",
    "print(y.grad)"
   ]
  },
  {
   "cell_type": "code",
   "execution_count": 37,
   "metadata": {},
   "outputs": [
    {
     "data": {
      "text/plain": [
       "<Figure size 640x480 with 1 Axes>"
      ]
     },
     "metadata": {},
     "output_type": "display_data"
    }
   ],
   "source": [
    "# create a function y = x^2 and find the gradient of y\n",
    "import matplotlib.pyplot as plt\n",
    "x = np.arange(-3,3.01,0.1)\n",
    "y = x**2\n",
    "plt.plot(x,y)\n",
    "plt.plot(2,4,'ro')\n",
    "plt.show()"
   ]
  },
  {
   "cell_type": "code",
   "execution_count": 38,
   "metadata": {},
   "outputs": [
    {
     "name": "stdout",
     "output_type": "stream",
     "text": [
      "tensor([4.])\n",
      "<PowBackward0 object at 0x12315eb38>\n"
     ]
    }
   ],
   "source": [
    "x = Variable(torch.FloatTensor([2]), requires_grad = True)\n",
    "y = x**2\n",
    "y.backward()\n",
    "print(x.grad)\n",
    "print(y.grad_fn)"
   ]
  }
 ],
 "metadata": {
  "kernelspec": {
   "display_name": "Python 3",
   "language": "python",
   "name": "python3"
  },
  "language_info": {
   "codemirror_mode": {
    "name": "ipython",
    "version": 3
   },
   "file_extension": ".py",
   "mimetype": "text/x-python",
   "name": "python",
   "nbconvert_exporter": "python",
   "pygments_lexer": "ipython3",
   "version": "3.7.3"
  }
 },
 "nbformat": 4,
 "nbformat_minor": 2
}
