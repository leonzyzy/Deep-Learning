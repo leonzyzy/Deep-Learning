{
 "cells": [
  {
   "cell_type": "code",
   "execution_count": 1,
   "metadata": {},
   "outputs": [],
   "source": [
    "import torch\n",
    "from torch.autograd import Variable"
   ]
  },
  {
   "cell_type": "markdown",
   "metadata": {},
   "source": [
    "$z = (x+2)^2+3$\\\n",
    "$z'=2(x+2)$\\\n",
    "If x = 2, $z'=8$"
   ]
  },
  {
   "cell_type": "code",
   "execution_count": 11,
   "metadata": {},
   "outputs": [
    {
     "name": "stdout",
     "output_type": "stream",
     "text": [
      "tensor([8.])\n"
     ]
    }
   ],
   "source": [
    "x = Variable(torch.Tensor([2]),requires_grad=True)\n",
    "y = x+2\n",
    "z = y**2+3\n",
    "z.backward()\n",
    "print(x.grad)"
   ]
  },
  {
   "cell_type": "markdown",
   "metadata": {},
   "source": [
    "##### Matrix Gradient "
   ]
  },
  {
   "cell_type": "code",
   "execution_count": 19,
   "metadata": {},
   "outputs": [],
   "source": [
    "X = Variable(torch.randn(10,20),requires_grad=True)\n",
    "Y = Variable(torch.randn(10,5),requires_grad=True)\n",
    "Z = Variable(torch.randn(20,5),requires_grad=True)"
   ]
  },
  {
   "cell_type": "code",
   "execution_count": 38,
   "metadata": {},
   "outputs": [],
   "source": [
    "W = torch.mean(Y-torch.matmul(X,Z))\n",
    "W.backward()"
   ]
  },
  {
   "cell_type": "code",
   "execution_count": 39,
   "metadata": {},
   "outputs": [
    {
     "name": "stdout",
     "output_type": "stream",
     "text": [
      "tensor([[ 0.0288, -0.5435, -0.3920, -0.2973,  0.1810,  0.1454, -0.0022, -0.1901,\n",
      "         -0.0340, -0.2569, -0.3193,  0.0072, -0.1616, -0.1505,  0.0699, -0.0069,\n",
      "         -0.2594,  0.3237, -0.2457,  0.0904],\n",
      "        [ 0.0288, -0.5435, -0.3920, -0.2973,  0.1810,  0.1454, -0.0022, -0.1901,\n",
      "         -0.0340, -0.2569, -0.3193,  0.0072, -0.1616, -0.1505,  0.0699, -0.0069,\n",
      "         -0.2594,  0.3237, -0.2457,  0.0904],\n",
      "        [ 0.0288, -0.5435, -0.3920, -0.2973,  0.1810,  0.1454, -0.0022, -0.1901,\n",
      "         -0.0340, -0.2569, -0.3193,  0.0072, -0.1616, -0.1505,  0.0699, -0.0069,\n",
      "         -0.2594,  0.3237, -0.2457,  0.0904],\n",
      "        [ 0.0288, -0.5435, -0.3920, -0.2973,  0.1810,  0.1454, -0.0022, -0.1901,\n",
      "         -0.0340, -0.2569, -0.3193,  0.0072, -0.1616, -0.1505,  0.0699, -0.0069,\n",
      "         -0.2594,  0.3237, -0.2457,  0.0904],\n",
      "        [ 0.0288, -0.5435, -0.3920, -0.2973,  0.1810,  0.1454, -0.0022, -0.1901,\n",
      "         -0.0340, -0.2569, -0.3193,  0.0072, -0.1616, -0.1505,  0.0699, -0.0069,\n",
      "         -0.2594,  0.3237, -0.2457,  0.0904],\n",
      "        [ 0.0288, -0.5435, -0.3920, -0.2973,  0.1810,  0.1454, -0.0022, -0.1901,\n",
      "         -0.0340, -0.2569, -0.3193,  0.0072, -0.1616, -0.1505,  0.0699, -0.0069,\n",
      "         -0.2594,  0.3237, -0.2457,  0.0904],\n",
      "        [ 0.0288, -0.5435, -0.3920, -0.2973,  0.1810,  0.1454, -0.0022, -0.1901,\n",
      "         -0.0340, -0.2569, -0.3193,  0.0072, -0.1616, -0.1505,  0.0699, -0.0069,\n",
      "         -0.2594,  0.3237, -0.2457,  0.0904],\n",
      "        [ 0.0288, -0.5435, -0.3920, -0.2973,  0.1810,  0.1454, -0.0022, -0.1901,\n",
      "         -0.0340, -0.2569, -0.3193,  0.0072, -0.1616, -0.1505,  0.0699, -0.0069,\n",
      "         -0.2594,  0.3237, -0.2457,  0.0904],\n",
      "        [ 0.0288, -0.5435, -0.3920, -0.2973,  0.1810,  0.1454, -0.0022, -0.1901,\n",
      "         -0.0340, -0.2569, -0.3193,  0.0072, -0.1616, -0.1505,  0.0699, -0.0069,\n",
      "         -0.2594,  0.3237, -0.2457,  0.0904],\n",
      "        [ 0.0288, -0.5435, -0.3920, -0.2973,  0.1810,  0.1454, -0.0022, -0.1901,\n",
      "         -0.0340, -0.2569, -0.3193,  0.0072, -0.1616, -0.1505,  0.0699, -0.0069,\n",
      "         -0.2594,  0.3237, -0.2457,  0.0904]])\n"
     ]
    }
   ],
   "source": [
    "print(X.grad)"
   ]
  },
  {
   "cell_type": "code",
   "execution_count": 44,
   "metadata": {},
   "outputs": [
    {
     "name": "stdout",
     "output_type": "stream",
     "text": [
      "tensor([[0.1200, 0.1200, 0.1200, 0.1200, 0.1200],\n",
      "        [0.1200, 0.1200, 0.1200, 0.1200, 0.1200],\n",
      "        [0.1200, 0.1200, 0.1200, 0.1200, 0.1200],\n",
      "        [0.1200, 0.1200, 0.1200, 0.1200, 0.1200],\n",
      "        [0.1200, 0.1200, 0.1200, 0.1200, 0.1200],\n",
      "        [0.1200, 0.1200, 0.1200, 0.1200, 0.1200],\n",
      "        [0.1200, 0.1200, 0.1200, 0.1200, 0.1200],\n",
      "        [0.1200, 0.1200, 0.1200, 0.1200, 0.1200],\n",
      "        [0.1200, 0.1200, 0.1200, 0.1200, 0.1200],\n",
      "        [0.1200, 0.1200, 0.1200, 0.1200, 0.1200]])\n"
     ]
    }
   ],
   "source": [
    "print(Y.grad)"
   ]
  },
  {
   "cell_type": "code",
   "execution_count": 42,
   "metadata": {},
   "outputs": [
    {
     "name": "stdout",
     "output_type": "stream",
     "text": [
      "tensor([[-0.5783, -0.5783, -0.5783, -0.5783, -0.5783],\n",
      "        [-0.3016, -0.3016, -0.3016, -0.3016, -0.3016],\n",
      "        [-0.6875, -0.6875, -0.6875, -0.6875, -0.6875],\n",
      "        [-0.8098, -0.8098, -0.8098, -0.8098, -0.8098],\n",
      "        [ 0.6637,  0.6637,  0.6637,  0.6637,  0.6637],\n",
      "        [-0.3077, -0.3077, -0.3077, -0.3077, -0.3077],\n",
      "        [ 0.1771,  0.1771,  0.1771,  0.1771,  0.1771],\n",
      "        [ 0.3535,  0.3535,  0.3535,  0.3535,  0.3535],\n",
      "        [ 0.3589,  0.3589,  0.3589,  0.3589,  0.3589],\n",
      "        [-0.4463, -0.4463, -0.4463, -0.4463, -0.4463],\n",
      "        [ 0.0749,  0.0749,  0.0749,  0.0749,  0.0749],\n",
      "        [-0.1118, -0.1118, -0.1118, -0.1118, -0.1118],\n",
      "        [-0.1906, -0.1906, -0.1906, -0.1906, -0.1906],\n",
      "        [-0.9002, -0.9002, -0.9002, -0.9002, -0.9002],\n",
      "        [-0.3898, -0.3898, -0.3898, -0.3898, -0.3898],\n",
      "        [-0.7185, -0.7185, -0.7185, -0.7185, -0.7185],\n",
      "        [-0.5733, -0.5733, -0.5733, -0.5733, -0.5733],\n",
      "        [-0.0898, -0.0898, -0.0898, -0.0898, -0.0898],\n",
      "        [ 0.4290,  0.4290,  0.4290,  0.4290,  0.4290],\n",
      "        [-0.1125, -0.1125, -0.1125, -0.1125, -0.1125]])\n"
     ]
    }
   ],
   "source": [
    "print(Z.grad)"
   ]
  },
  {
   "cell_type": "markdown",
   "metadata": {},
   "source": [
    "##### Complex auto gradient"
   ]
  },
  {
   "cell_type": "markdown",
   "metadata": {},
   "source": [
    "Let $n=(n_0,n_1)=(m_0^2,m_1^3)$, where $m_0=2,m_1=3$"
   ]
  },
  {
   "cell_type": "code",
   "execution_count": 88,
   "metadata": {},
   "outputs": [
    {
     "name": "stdout",
     "output_type": "stream",
     "text": [
      "tensor([[2., 3.]], requires_grad=True)\n",
      "tensor([[0., 0.]])\n"
     ]
    }
   ],
   "source": [
    "# define m and n\n",
    "m = Variable(torch.FloatTensor([[2,3]]),requires_grad=True)\n",
    "n = Variable(torch.zeros(1,2))\n",
    "print(m)\n",
    "print(n)"
   ]
  },
  {
   "cell_type": "code",
   "execution_count": 89,
   "metadata": {},
   "outputs": [
    {
     "name": "stdout",
     "output_type": "stream",
     "text": [
      "tensor([[ 4., 27.]], grad_fn=<CopySlices>)\n"
     ]
    }
   ],
   "source": [
    "# update the n value based\n",
    "n[0,0] = m[0,0]**2\n",
    "n[0,1] = m[0,1]**3\n",
    "print(n)"
   ]
  },
  {
   "cell_type": "code",
   "execution_count": 93,
   "metadata": {},
   "outputs": [],
   "source": [
    "n.backward(torch.ones_like(n))"
   ]
  },
  {
   "cell_type": "code",
   "execution_count": 95,
   "metadata": {},
   "outputs": [
    {
     "name": "stdout",
     "output_type": "stream",
     "text": [
      "tensor([[ 4., 27.]])\n"
     ]
    }
   ],
   "source": [
    "print(m.grad)"
   ]
  },
  {
   "cell_type": "markdown",
   "metadata": {},
   "source": [
    "##### Multiple auto gradient"
   ]
  },
  {
   "cell_type": "markdown",
   "metadata": {},
   "source": [
    "$y=x+2x^2+3$"
   ]
  },
  {
   "cell_type": "code",
   "execution_count": 108,
   "metadata": {},
   "outputs": [
    {
     "name": "stdout",
     "output_type": "stream",
     "text": [
      "tensor([24.], grad_fn=<AddBackward0>)\n"
     ]
    }
   ],
   "source": [
    "x = Variable(torch.FloatTensor([3]),requires_grad=True)\n",
    "y = x+2*x**2+3\n",
    "print(y)"
   ]
  },
  {
   "cell_type": "code",
   "execution_count": 109,
   "metadata": {},
   "outputs": [],
   "source": [
    "y.backward(retain_graph=True) # keep value in graph "
   ]
  },
  {
   "cell_type": "code",
   "execution_count": 110,
   "metadata": {},
   "outputs": [
    {
     "name": "stdout",
     "output_type": "stream",
     "text": [
      "tensor([13.])\n"
     ]
    }
   ],
   "source": [
    "print(x.grad)"
   ]
  },
  {
   "cell_type": "code",
   "execution_count": 111,
   "metadata": {},
   "outputs": [],
   "source": [
    "y.backward(retain_graph=True) # keep again"
   ]
  },
  {
   "cell_type": "code",
   "execution_count": 112,
   "metadata": {},
   "outputs": [
    {
     "name": "stdout",
     "output_type": "stream",
     "text": [
      "tensor([26.])\n"
     ]
    }
   ],
   "source": [
    "print(x.grad)"
   ]
  },
  {
   "cell_type": "code",
   "execution_count": 113,
   "metadata": {},
   "outputs": [],
   "source": [
    "y.backward() # this time do not keep"
   ]
  },
  {
   "cell_type": "code",
   "execution_count": 114,
   "metadata": {},
   "outputs": [
    {
     "name": "stdout",
     "output_type": "stream",
     "text": [
      "tensor([39.])\n"
     ]
    }
   ],
   "source": [
    "print(x.grad)"
   ]
  },
  {
   "cell_type": "markdown",
   "metadata": {},
   "source": [
    "If $K = (x_0^2+3x_1,2x_0+x_1^2)$, find $\\nabla K$ as gradient matrix"
   ]
  },
  {
   "cell_type": "code",
   "execution_count": 213,
   "metadata": {},
   "outputs": [],
   "source": [
    "x = Variable(torch.FloatTensor([2, 3]), requires_grad=True)\n",
    "k = Variable(torch.zeros(2))\n",
    "\n",
    "k[0] = x[0]**2+3*x[1]\n",
    "k[1] = x[1]**2+2*x[0]"
   ]
  },
  {
   "cell_type": "code",
   "execution_count": 214,
   "metadata": {},
   "outputs": [
    {
     "name": "stdout",
     "output_type": "stream",
     "text": [
      "tensor([13., 13.], grad_fn=<CopySlices>)\n"
     ]
    }
   ],
   "source": [
    "print(k)"
   ]
  },
  {
   "cell_type": "code",
   "execution_count": 215,
   "metadata": {},
   "outputs": [],
   "source": [
    "# define 0 matrix 2x2\n",
    "j = torch.zeros(2, 2)\n",
    "\n",
    "k.backward(torch.FloatTensor([1, 0]),retain_graph=True)\n",
    "j[0] = x.grad.data"
   ]
  },
  {
   "cell_type": "code",
   "execution_count": 216,
   "metadata": {},
   "outputs": [],
   "source": [
    "x.grad.data.zero_() # set x.grad to 0\n",
    "k.backward(torch.FloatTensor([0, 1]))\n",
    "j[1] = x.grad.data"
   ]
  },
  {
   "cell_type": "code",
   "execution_count": 218,
   "metadata": {},
   "outputs": [
    {
     "name": "stdout",
     "output_type": "stream",
     "text": [
      "tensor([[4., 3.],\n",
      "        [2., 6.]])\n"
     ]
    }
   ],
   "source": [
    "print(j)"
   ]
  },
  {
   "cell_type": "markdown",
   "metadata": {},
   "source": [
    "##### More complex auto gradient"
   ]
  },
  {
   "cell_type": "code",
   "execution_count": 254,
   "metadata": {},
   "outputs": [],
   "source": [
    "x = Variable(torch.FloatTensor([[2,1]]), requires_grad=True)\n",
    "y = Variable(torch.FloatTensor([[1,2],[3,4]]), requires_grad=True)"
   ]
  },
  {
   "cell_type": "code",
   "execution_count": 255,
   "metadata": {},
   "outputs": [
    {
     "name": "stdout",
     "output_type": "stream",
     "text": [
      "z:tensor([[5., 8.]], grad_fn=<MmBackward>)\n",
      "tensor([[1., 3.]])\n",
      "tensor([[2., 0.],\n",
      "        [1., 0.]])\n"
     ]
    }
   ],
   "source": [
    "z = torch.mm(x,y)\n",
    "print(f\"z:{z}\")\n",
    "z.backward(torch.FloatTensor([[1,0]]),retain_graph=True)\n",
    "print(x.grad)\n",
    "print(y.grad)"
   ]
  },
  {
   "cell_type": "code",
   "execution_count": 256,
   "metadata": {},
   "outputs": [
    {
     "name": "stdout",
     "output_type": "stream",
     "text": [
      "tensor([[3., 7.]])\n",
      "tensor([[2., 2.],\n",
      "        [1., 1.]])\n"
     ]
    }
   ],
   "source": [
    "z.backward(torch.FloatTensor([[0,1]]))\n",
    "print(x.grad)\n",
    "print(y.grad)"
   ]
  }
 ],
 "metadata": {
  "kernelspec": {
   "display_name": "Python 3",
   "language": "python",
   "name": "python3"
  },
  "language_info": {
   "codemirror_mode": {
    "name": "ipython",
    "version": 3
   },
   "file_extension": ".py",
   "mimetype": "text/x-python",
   "name": "python",
   "nbconvert_exporter": "python",
   "pygments_lexer": "ipython3",
   "version": "3.7.3"
  }
 },
 "nbformat": 4,
 "nbformat_minor": 2
}
