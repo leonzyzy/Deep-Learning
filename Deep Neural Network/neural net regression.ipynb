{
 "cells": [
  {
   "cell_type": "code",
   "execution_count": 1,
   "metadata": {},
   "outputs": [],
   "source": [
    "import pandas as pd\n",
    "import numpy as np\n",
    "import matplotlib.pyplot as plt\n",
    "import torch\n",
    "import torch.nn as nn\n",
    "import torch.nn.functional as F\n",
    "from sklearn import preprocessing\n",
    "from sklearn.model_selection import train_test_split"
   ]
  },
  {
   "cell_type": "code",
   "execution_count": 2,
   "metadata": {},
   "outputs": [],
   "source": [
    "# import data\n",
    "def dataImport(file):\n",
    "    data = pd.read_csv(file)\n",
    "    return data\n",
    "\n",
    "# preprocessing data\n",
    "def feature_processing(df):\n",
    "    # get label\n",
    "    label = np.array(df['actual'])\n",
    "    # set features\n",
    "    features = df[['week', 'temp_2', 'temp_1', 'average', 'actual', 'friend']]\n",
    "    # one hot encoding for categorical variables\n",
    "    features = pd.get_dummies(features)\n",
    "    # standardize features\n",
    "    features = np.array(preprocessing.StandardScaler().fit_transform(features))\n",
    "    return features,label\n",
    "\n",
    "# training testing split\n",
    "temp_data = dataImport('temp.txt')\n",
    "X,y = feature_processing(temp_data)\n",
    "X_train,X_test,y_train,y_test = train_test_split(X,y,test_size=0.2,random_state=123)\n",
    "\n",
    "# set training/testing data into tensor format\n",
    "X_train_tensor = torch.from_numpy(X_train).float()\n",
    "y_train_tensor = torch.from_numpy(y_train).reshape(-1,1).float()\n",
    "X_test_tensor = torch.from_numpy(X_test).float()\n",
    "y_test_tensor = torch.from_numpy(y_test).reshape(-1,1).float()"
   ]
  },
  {
   "cell_type": "code",
   "execution_count": 3,
   "metadata": {},
   "outputs": [],
   "source": [
    "# define a neural network class\n",
    "class NeuralNet(nn.Module):\n",
    "    def __init__(self,input_size, hidden1_size, hidden2_size, output_size):\n",
    "        super(NeuralNet,self).__init__()\n",
    "        layers = [\n",
    "            nn.Linear(input_size,hidden1_size),\n",
    "            nn.ReLU(),\n",
    "            nn.Linear(hidden1_size,hidden2_size),\n",
    "            nn.ReLU(),\n",
    "            nn.Linear(hidden2_size,output_size)\n",
    "        ]\n",
    "        self.layers = nn.Sequential(*layers)\n",
    "        \n",
    "    def forward(self, x):\n",
    "        return self.layers(x)\n",
    "    \n",
    "# define the neural net object\n",
    "net = NeuralNet(12,12,12,1)\n",
    "device = torch.device(\"cuda\")\n",
    "net.to(device)\n",
    "\n",
    "# define optimizer and loss function\n",
    "epochs = 5000 # training times\n",
    "loss = nn.MSELoss(reduction='mean')\n",
    "optimizer = torch.optim.Adam(net.parameters(),lr=0.01)\n",
    "costs = []\n",
    "\n",
    "# training process\n",
    "for i in range(epochs):\n",
    "    # set train data into gpu\n",
    "    X_train = X_train_tensor.to(device)\n",
    "    y_train = y_train_tensor.to(device)\n",
    "    \n",
    "    # zero gradient set\n",
    "    optimizer.zero_grad()\n",
    "    \n",
    "    # prediction/forward\n",
    "    pred = net(X_train)\n",
    "    # compute cost\n",
    "    cost = loss(pred,y_train)\n",
    "    # backward propagation\n",
    "    cost.backward()\n",
    "    # upodating parameters\n",
    "    optimizer.step()\n",
    "    \n",
    "    # show training process\n",
    "    if (i+1) % 100 == 0:\n",
    "        costs.append(cost.cpu().data.numpy())\n",
    "        #print('epoch: {}, cost: {}'.format(i+1,cost.cpu().data))"
   ]
  },
  {
   "cell_type": "code",
   "execution_count": 4,
   "metadata": {},
   "outputs": [
    {
     "data": {
      "image/png": "[encoded data removed]",
      "text/plain": [
       "<Figure size 432x288 with 1 Axes>"
      ]
     },
     "metadata": {
      "needs_background": "light"
     },
     "output_type": "display_data"
    }
   ],
   "source": [
    "plt.plot(costs)\n",
    "plt.show()"
   ]
  }
 ],
 "metadata": {
  "kernelspec": {
   "display_name": "Python 3",
   "language": "python",
   "name": "python3"
  },
  "language_info": {
   "codemirror_mode": {
    "name": "ipython",
    "version": 3
   },
   "file_extension": ".py",
   "mimetype": "text/x-python",
   "name": "python",
   "nbconvert_exporter": "python",
   "pygments_lexer": "ipython3",
   "version": "3.8.5"
  }
 },
 "nbformat": 4,
 "nbformat_minor": 4
}
