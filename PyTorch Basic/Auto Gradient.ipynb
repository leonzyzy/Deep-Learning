{
 "cells": [
  {
   "cell_type": "code",
   "execution_count": 1,
   "metadata": {},
   "outputs": [],
   "source": [
    "import torch\n",
    "from torch.autograd import Variable"
   ]
  },
  {
   "cell_type": "markdown",
   "metadata": {},
   "source": [
    "$z = (x+2)^2+3$\\\n",
    "$z'=2(x+2)$\\\n",
    "If x = 2, $z'=8$"
   ]
  },
  {
   "cell_type": "code",
   "execution_count": 2,
   "metadata": {},
   "outputs": [
    {
     "name": "stdout",
     "output_type": "stream",
     "text": [
      "tensor([8.])\n"
     ]
    }
   ],
   "source": [
    "x = Variable(torch.Tensor([2]),requires_grad=True)\n",
    "y = x+2\n",
    "z = y**2+3\n",
    "z.backward()\n",
    "print(x.grad)"
   ]
  },
  {
   "cell_type": "markdown",
   "metadata": {},
   "source": [
    "##### Matrix Gradient "
   ]
  },
  {
   "cell_type": "code",
   "execution_count": 3,
   "metadata": {},
   "outputs": [],
   "source": [
    "X = Variable(torch.randn(10,20),requires_grad=True)\n",
    "Y = Variable(torch.randn(10,5),requires_grad=True)\n",
    "Z = Variable(torch.randn(20,5),requires_grad=True)"
   ]
  },
  {
   "cell_type": "code",
   "execution_count": 4,
   "metadata": {},
   "outputs": [],
   "source": [
    "W = torch.mean(Y-torch.matmul(X,Z))\n",
    "W.backward()"
   ]
  },
  {
   "cell_type": "code",
   "execution_count": 5,
   "metadata": {},
   "outputs": [
    {
     "name": "stdout",
     "output_type": "stream",
     "text": [
      "tensor([[-0.0865,  0.0366, -0.0284,  0.0127, -0.0507,  0.0026, -0.0071, -0.0116,\n",
      "          0.0735, -0.0040, -0.1033,  0.0684,  0.0208,  0.0048,  0.0525,  0.0427,\n",
      "         -0.0458, -0.0718,  0.0005,  0.0457],\n",
      "        [-0.0865,  0.0366, -0.0284,  0.0127, -0.0507,  0.0026, -0.0071, -0.0116,\n",
      "          0.0735, -0.0040, -0.1033,  0.0684,  0.0208,  0.0048,  0.0525,  0.0427,\n",
      "         -0.0458, -0.0718,  0.0005,  0.0457],\n",
      "        [-0.0865,  0.0366, -0.0284,  0.0127, -0.0507,  0.0026, -0.0071, -0.0116,\n",
      "          0.0735, -0.0040, -0.1033,  0.0684,  0.0208,  0.0048,  0.0525,  0.0427,\n",
      "         -0.0458, -0.0718,  0.0005,  0.0457],\n",
      "        [-0.0865,  0.0366, -0.0284,  0.0127, -0.0507,  0.0026, -0.0071, -0.0116,\n",
      "          0.0735, -0.0040, -0.1033,  0.0684,  0.0208,  0.0048,  0.0525,  0.0427,\n",
      "         -0.0458, -0.0718,  0.0005,  0.0457],\n",
      "        [-0.0865,  0.0366, -0.0284,  0.0127, -0.0507,  0.0026, -0.0071, -0.0116,\n",
      "          0.0735, -0.0040, -0.1033,  0.0684,  0.0208,  0.0048,  0.0525,  0.0427,\n",
      "         -0.0458, -0.0718,  0.0005,  0.0457],\n",
      "        [-0.0865,  0.0366, -0.0284,  0.0127, -0.0507,  0.0026, -0.0071, -0.0116,\n",
      "          0.0735, -0.0040, -0.1033,  0.0684,  0.0208,  0.0048,  0.0525,  0.0427,\n",
      "         -0.0458, -0.0718,  0.0005,  0.0457],\n",
      "        [-0.0865,  0.0366, -0.0284,  0.0127, -0.0507,  0.0026, -0.0071, -0.0116,\n",
      "          0.0735, -0.0040, -0.1033,  0.0684,  0.0208,  0.0048,  0.0525,  0.0427,\n",
      "         -0.0458, -0.0718,  0.0005,  0.0457],\n",
      "        [-0.0865,  0.0366, -0.0284,  0.0127, -0.0507,  0.0026, -0.0071, -0.0116,\n",
      "          0.0735, -0.0040, -0.1033,  0.0684,  0.0208,  0.0048,  0.0525,  0.0427,\n",
      "         -0.0458, -0.0718,  0.0005,  0.0457],\n",
      "        [-0.0865,  0.0366, -0.0284,  0.0127, -0.0507,  0.0026, -0.0071, -0.0116,\n",
      "          0.0735, -0.0040, -0.1033,  0.0684,  0.0208,  0.0048,  0.0525,  0.0427,\n",
      "         -0.0458, -0.0718,  0.0005,  0.0457],\n",
      "        [-0.0865,  0.0366, -0.0284,  0.0127, -0.0507,  0.0026, -0.0071, -0.0116,\n",
      "          0.0735, -0.0040, -0.1033,  0.0684,  0.0208,  0.0048,  0.0525,  0.0427,\n",
      "         -0.0458, -0.0718,  0.0005,  0.0457]])\n"
     ]
    }
   ],
   "source": [
    "print(X.grad)"
   ]
  },
  {
   "cell_type": "code",
   "execution_count": 6,
   "metadata": {},
   "outputs": [
    {
     "name": "stdout",
     "output_type": "stream",
     "text": [
      "tensor([[0.0200, 0.0200, 0.0200, 0.0200, 0.0200],\n",
      "        [0.0200, 0.0200, 0.0200, 0.0200, 0.0200],\n",
      "        [0.0200, 0.0200, 0.0200, 0.0200, 0.0200],\n",
      "        [0.0200, 0.0200, 0.0200, 0.0200, 0.0200],\n",
      "        [0.0200, 0.0200, 0.0200, 0.0200, 0.0200],\n",
      "        [0.0200, 0.0200, 0.0200, 0.0200, 0.0200],\n",
      "        [0.0200, 0.0200, 0.0200, 0.0200, 0.0200],\n",
      "        [0.0200, 0.0200, 0.0200, 0.0200, 0.0200],\n",
      "        [0.0200, 0.0200, 0.0200, 0.0200, 0.0200],\n",
      "        [0.0200, 0.0200, 0.0200, 0.0200, 0.0200]])\n"
     ]
    }
   ],
   "source": [
    "print(Y.grad)"
   ]
  },
  {
   "cell_type": "code",
   "execution_count": 7,
   "metadata": {},
   "outputs": [
    {
     "name": "stdout",
     "output_type": "stream",
     "text": [
      "tensor([[-1.2556e-02, -1.2556e-02, -1.2556e-02, -1.2556e-02, -1.2556e-02],\n",
      "        [-1.5873e-01, -1.5873e-01, -1.5873e-01, -1.5873e-01, -1.5873e-01],\n",
      "        [-9.3289e-02, -9.3289e-02, -9.3289e-02, -9.3289e-02, -9.3289e-02],\n",
      "        [ 3.0366e-02,  3.0366e-02,  3.0366e-02,  3.0366e-02,  3.0366e-02],\n",
      "        [ 1.3616e-02,  1.3616e-02,  1.3616e-02,  1.3616e-02,  1.3616e-02],\n",
      "        [ 2.9275e-02,  2.9275e-02,  2.9275e-02,  2.9275e-02,  2.9275e-02],\n",
      "        [-1.1621e-01, -1.1621e-01, -1.1621e-01, -1.1621e-01, -1.1621e-01],\n",
      "        [-3.9812e-02, -3.9812e-02, -3.9812e-02, -3.9812e-02, -3.9812e-02],\n",
      "        [-6.2025e-02, -6.2025e-02, -6.2025e-02, -6.2025e-02, -6.2025e-02],\n",
      "        [ 4.5474e-02,  4.5474e-02,  4.5474e-02,  4.5474e-02,  4.5474e-02],\n",
      "        [-1.0592e-04, -1.0592e-04, -1.0592e-04, -1.0592e-04, -1.0592e-04],\n",
      "        [ 2.9024e-02,  2.9024e-02,  2.9024e-02,  2.9024e-02,  2.9024e-02],\n",
      "        [ 3.2798e-02,  3.2798e-02,  3.2798e-02,  3.2798e-02,  3.2798e-02],\n",
      "        [-1.1993e-02, -1.1993e-02, -1.1993e-02, -1.1993e-02, -1.1993e-02],\n",
      "        [ 7.0025e-02,  7.0025e-02,  7.0025e-02,  7.0025e-02,  7.0025e-02],\n",
      "        [-7.5821e-02, -7.5821e-02, -7.5821e-02, -7.5821e-02, -7.5821e-02],\n",
      "        [ 1.6830e-02,  1.6830e-02,  1.6830e-02,  1.6830e-02,  1.6830e-02],\n",
      "        [-3.1888e-02, -3.1888e-02, -3.1888e-02, -3.1888e-02, -3.1888e-02],\n",
      "        [ 3.9116e-03,  3.9116e-03,  3.9116e-03,  3.9116e-03,  3.9116e-03],\n",
      "        [-4.1123e-02, -4.1123e-02, -4.1123e-02, -4.1123e-02, -4.1123e-02]])\n"
     ]
    }
   ],
   "source": [
    "print(Z.grad)"
   ]
  },
  {
   "cell_type": "markdown",
   "metadata": {},
   "source": [
    "##### Complex auto gradient"
   ]
  },
  {
   "cell_type": "markdown",
   "metadata": {},
   "source": [
    "Let $n=(n_0,n_1)=(m_0^2,m_1^3)$, where $m_0=2,m_1=3$"
   ]
  },
  {
   "cell_type": "code",
   "execution_count": 8,
   "metadata": {},
   "outputs": [
    {
     "name": "stdout",
     "output_type": "stream",
     "text": [
      "tensor([[2., 3.]], requires_grad=True)\n",
      "tensor([[0., 0.]])\n"
     ]
    }
   ],
   "source": [
    "# define m and n\n",
    "m = Variable(torch.FloatTensor([[2,3]]),requires_grad=True)\n",
    "n = Variable(torch.zeros(1,2))\n",
    "print(m)\n",
    "print(n)"
   ]
  },
  {
   "cell_type": "code",
   "execution_count": 9,
   "metadata": {},
   "outputs": [
    {
     "name": "stdout",
     "output_type": "stream",
     "text": [
      "tensor([[ 4., 27.]], grad_fn=<CopySlices>)\n"
     ]
    }
   ],
   "source": [
    "# update the n value based\n",
    "n[0,0] = m[0,0]**2\n",
    "n[0,1] = m[0,1]**3\n",
    "print(n)"
   ]
  },
  {
   "cell_type": "code",
   "execution_count": 10,
   "metadata": {},
   "outputs": [],
   "source": [
    "n.backward(torch.ones_like(n))"
   ]
  },
  {
   "cell_type": "code",
   "execution_count": 11,
   "metadata": {},
   "outputs": [
    {
     "name": "stdout",
     "output_type": "stream",
     "text": [
      "tensor([[ 4., 27.]])\n"
     ]
    }
   ],
   "source": [
    "print(m.grad)"
   ]
  },
  {
   "cell_type": "markdown",
   "metadata": {},
   "source": [
    "##### Multiple auto gradient"
   ]
  },
  {
   "cell_type": "markdown",
   "metadata": {},
   "source": [
    "$y=x+2x^2+3$"
   ]
  },
  {
   "cell_type": "code",
   "execution_count": 12,
   "metadata": {},
   "outputs": [
    {
     "name": "stdout",
     "output_type": "stream",
     "text": [
      "tensor([24.], grad_fn=<AddBackward0>)\n"
     ]
    }
   ],
   "source": [
    "x = Variable(torch.FloatTensor([3]),requires_grad=True)\n",
    "y = x+2*x**2+3\n",
    "print(y)"
   ]
  },
  {
   "cell_type": "code",
   "execution_count": 13,
   "metadata": {},
   "outputs": [],
   "source": [
    "y.backward(retain_graph=True) # keep value in graph "
   ]
  },
  {
   "cell_type": "code",
   "execution_count": 14,
   "metadata": {},
   "outputs": [
    {
     "name": "stdout",
     "output_type": "stream",
     "text": [
      "tensor([13.])\n"
     ]
    }
   ],
   "source": [
    "print(x.grad)"
   ]
  },
  {
   "cell_type": "code",
   "execution_count": 15,
   "metadata": {},
   "outputs": [],
   "source": [
    "y.backward(retain_graph=True) # keep again"
   ]
  },
  {
   "cell_type": "code",
   "execution_count": 16,
   "metadata": {},
   "outputs": [
    {
     "name": "stdout",
     "output_type": "stream",
     "text": [
      "tensor([26.])\n"
     ]
    }
   ],
   "source": [
    "print(x.grad)"
   ]
  },
  {
   "cell_type": "code",
   "execution_count": 17,
   "metadata": {},
   "outputs": [],
   "source": [
    "y.backward() # this time do not keep"
   ]
  },
  {
   "cell_type": "code",
   "execution_count": 18,
   "metadata": {},
   "outputs": [
    {
     "name": "stdout",
     "output_type": "stream",
     "text": [
      "tensor([39.])\n"
     ]
    }
   ],
   "source": [
    "print(x.grad)"
   ]
  },
  {
   "cell_type": "markdown",
   "metadata": {},
   "source": [
    "If $K = (x_0^2+3x_1,2x_0+x_1^2)$, find $\\nabla K$ as gradient matrix"
   ]
  },
  {
   "cell_type": "code",
   "execution_count": 19,
   "metadata": {},
   "outputs": [],
   "source": [
    "x = Variable(torch.FloatTensor([2, 3]), requires_grad=True)\n",
    "k = Variable(torch.zeros(2))\n",
    "\n",
    "k[0] = x[0]**2+3*x[1]\n",
    "k[1] = x[1]**2+2*x[0]"
   ]
  },
  {
   "cell_type": "code",
   "execution_count": 20,
   "metadata": {},
   "outputs": [
    {
     "name": "stdout",
     "output_type": "stream",
     "text": [
      "tensor([13., 13.], grad_fn=<CopySlices>)\n"
     ]
    }
   ],
   "source": [
    "print(k)"
   ]
  },
  {
   "cell_type": "code",
   "execution_count": 21,
   "metadata": {},
   "outputs": [],
   "source": [
    "# define 0 matrix 2x2\n",
    "j = torch.zeros(2, 2)\n",
    "\n",
    "k.backward(torch.FloatTensor([1, 0]),retain_graph=True)\n",
    "j[0] = x.grad.data"
   ]
  },
  {
   "cell_type": "code",
   "execution_count": 22,
   "metadata": {},
   "outputs": [],
   "source": [
    "x.grad.data.zero_() # set x.grad to 0\n",
    "k.backward(torch.FloatTensor([0, 1]))\n",
    "j[1] = x.grad.data"
   ]
  },
  {
   "cell_type": "code",
   "execution_count": 23,
   "metadata": {},
   "outputs": [
    {
     "name": "stdout",
     "output_type": "stream",
     "text": [
      "tensor([[4., 3.],\n",
      "        [2., 6.]])\n"
     ]
    }
   ],
   "source": [
    "print(j)"
   ]
  },
  {
   "cell_type": "markdown",
   "metadata": {},
   "source": [
    "##### More complex auto gradient"
   ]
  },
  {
   "cell_type": "code",
   "execution_count": 24,
   "metadata": {},
   "outputs": [],
   "source": [
    "x = Variable(torch.FloatTensor([[2,1]]), requires_grad=True)\n",
    "y = Variable(torch.FloatTensor([[1,2],[3,4]]), requires_grad=True)"
   ]
  },
  {
   "cell_type": "code",
   "execution_count": 25,
   "metadata": {},
   "outputs": [
    {
     "name": "stdout",
     "output_type": "stream",
     "text": [
      "z:tensor([[5., 8.]], grad_fn=<MmBackward>)\n",
      "tensor([[1., 3.]])\n",
      "tensor([[2., 0.],\n",
      "        [1., 0.]])\n"
     ]
    }
   ],
   "source": [
    "z = torch.mm(x,y)\n",
    "print(f\"z:{z}\")\n",
    "z.backward(torch.FloatTensor([[1,0]]),retain_graph=True)\n",
    "print(x.grad)\n",
    "print(y.grad)"
   ]
  },
  {
   "cell_type": "code",
   "execution_count": 26,
   "metadata": {},
   "outputs": [
    {
     "name": "stdout",
     "output_type": "stream",
     "text": [
      "tensor([[3., 7.]])\n",
      "tensor([[2., 2.],\n",
      "        [1., 1.]])\n"
     ]
    }
   ],
   "source": [
    "z.backward(torch.FloatTensor([[0,1]]))\n",
    "print(x.grad)\n",
    "print(y.grad)"
   ]
  }
 ],
 "metadata": {
  "kernelspec": {
   "display_name": "Python 3",
   "language": "python",
   "name": "python3"
  },
  "language_info": {
   "codemirror_mode": {
    "name": "ipython",
    "version": 3
   },
   "file_extension": ".py",
   "mimetype": "text/x-python",
   "name": "python",
   "nbconvert_exporter": "python",
   "pygments_lexer": "ipython3",
   "version": "3.7.3"
  }
 },
 "nbformat": 4,
 "nbformat_minor": 2
}
