{
 "cells": [
  {
   "cell_type": "code",
   "execution_count": 1,
   "metadata": {},
   "outputs": [],
   "source": [
    "import torch\n",
    "import numpy as np"
   ]
  },
  {
   "cell_type": "code",
   "execution_count": 2,
   "metadata": {},
   "outputs": [],
   "source": [
    "# define a numpy ndarray\n",
    "numpy_tensor = np.random.randn(10,20)"
   ]
  },
  {
   "cell_type": "code",
   "execution_count": 8,
   "metadata": {},
   "outputs": [
    {
     "data": {
      "text/plain": [
       "(10, 20)"
      ]
     },
     "execution_count": 8,
     "metadata": {},
     "output_type": "execute_result"
    }
   ],
   "source": [
    "numpy_tensor.shape"
   ]
  },
  {
   "cell_type": "code",
   "execution_count": 13,
   "metadata": {},
   "outputs": [],
   "source": [
    "# transfer numpy to torch\n",
    "torch_tensor1 = torch.Tensor(numpy_tensor)\n",
    "torch_tensor2 = torch.from_numpy(numpy_tensor)"
   ]
  },
  {
   "cell_type": "code",
   "execution_count": 17,
   "metadata": {},
   "outputs": [],
   "source": [
    "# transfer torch to numpy\n",
    "numpy_array = torch_tensor1.numpy() # if is on cpu\n",
    "# numpy_array = torch_tensor1.cpu().numpy() # if is on GPU\n",
    "# tensor cannot transfer to numpy if is on gpu, you must transfer to cpu first"
   ]
  },
  {
   "cell_type": "code",
   "execution_count": 22,
   "metadata": {},
   "outputs": [
    {
     "data": {
      "text/plain": [
       "2"
      ]
     },
     "execution_count": 22,
     "metadata": {},
     "output_type": "execute_result"
    }
   ],
   "source": [
    "torch_tensor1.dim()"
   ]
  },
  {
   "cell_type": "code",
   "execution_count": 23,
   "metadata": {},
   "outputs": [
    {
     "data": {
      "text/plain": [
       "'torch.FloatTensor'"
      ]
     },
     "execution_count": 23,
     "metadata": {},
     "output_type": "execute_result"
    }
   ],
   "source": [
    "torch_tensor1.type()"
   ]
  },
  {
   "cell_type": "code",
   "execution_count": 25,
   "metadata": {},
   "outputs": [
    {
     "data": {
      "text/plain": [
       "200"
      ]
     },
     "execution_count": 25,
     "metadata": {},
     "output_type": "execute_result"
    }
   ],
   "source": [
    "torch_tensor1.numel()"
   ]
  },
  {
   "cell_type": "code",
   "execution_count": 47,
   "metadata": {},
   "outputs": [
    {
     "name": "stdout",
     "output_type": "stream",
     "text": [
      "float64\n"
     ]
    }
   ],
   "source": [
    "# exericise\n",
    "x = torch.randn(3,2)\n",
    "x = x.type(torch.DoubleTensor)\n",
    "x_array = x.numpy()\n",
    "print(x_array.dtype)"
   ]
  },
  {
   "cell_type": "code",
   "execution_count": 48,
   "metadata": {},
   "outputs": [],
   "source": [
    "x = torch.ones(2,2)"
   ]
  },
  {
   "cell_type": "code",
   "execution_count": 54,
   "metadata": {},
   "outputs": [],
   "source": [
    "x = torch.randn(4,3)"
   ]
  },
  {
   "cell_type": "code",
   "execution_count": 55,
   "metadata": {},
   "outputs": [
    {
     "name": "stdout",
     "output_type": "stream",
     "text": [
      "tensor([[-0.2508, -0.8794, -0.2288],\n",
      "        [-0.0044, -0.5530,  0.6951],\n",
      "        [-1.4951, -0.7741, -0.7315],\n",
      "        [-0.4224, -0.4478,  0.1825]])\n"
     ]
    }
   ],
   "source": [
    "print(x)"
   ]
  },
  {
   "cell_type": "code",
   "execution_count": 69,
   "metadata": {},
   "outputs": [],
   "source": [
    "# get max and min\n",
    "max_value, max_index = torch.max(x,dim=1)"
   ]
  },
  {
   "cell_type": "code",
   "execution_count": 70,
   "metadata": {},
   "outputs": [
    {
     "name": "stdout",
     "output_type": "stream",
     "text": [
      "tensor([-0.2288,  0.6951, -0.7315,  0.1825])\n",
      "tensor([2, 2, 2, 2])\n"
     ]
    }
   ],
   "source": [
    "print(max_value)\n",
    "print(max_index)"
   ]
  },
  {
   "cell_type": "code",
   "execution_count": 73,
   "metadata": {},
   "outputs": [
    {
     "name": "stdout",
     "output_type": "stream",
     "text": [
      "tensor([-1.3590,  0.1377, -3.0007, -0.6876])\n"
     ]
    }
   ],
   "source": [
    "# get sum of x\n",
    "sum_x = torch.sum(x,dim=1)\n",
    "print(sum_x)"
   ]
  },
  {
   "cell_type": "code",
   "execution_count": 75,
   "metadata": {},
   "outputs": [
    {
     "name": "stdout",
     "output_type": "stream",
     "text": [
      "torch.Size([4, 3])\n",
      "torch.Size([1, 4, 3])\n"
     ]
    }
   ],
   "source": [
    "# add dimension\n",
    "print(x.shape)\n",
    "x = x.unsqueeze(0)\n",
    "print(x.shape)"
   ]
  },
  {
   "cell_type": "code",
   "execution_count": 77,
   "metadata": {},
   "outputs": [
    {
     "name": "stdout",
     "output_type": "stream",
     "text": [
      "torch.Size([1, 1, 4, 3])\n"
     ]
    }
   ],
   "source": [
    "x = x.unsqueeze(1)\n",
    "print(x.shape)"
   ]
  },
  {
   "cell_type": "code",
   "execution_count": 79,
   "metadata": {},
   "outputs": [
    {
     "data": {
      "text/plain": [
       "torch.Size([1, 4, 3])"
      ]
     },
     "execution_count": 79,
     "metadata": {},
     "output_type": "execute_result"
    }
   ],
   "source": [
    "# reduce dimension\n",
    "x = x.squeeze(0)\n",
    "x.shape"
   ]
  },
  {
   "cell_type": "code",
   "execution_count": 82,
   "metadata": {},
   "outputs": [
    {
     "data": {
      "text/plain": [
       "torch.Size([4, 3])"
      ]
     },
     "execution_count": 82,
     "metadata": {},
     "output_type": "execute_result"
    }
   ],
   "source": [
    "x = x.squeeze() # reduce all dim\n",
    "x.shape"
   ]
  },
  {
   "cell_type": "code",
   "execution_count": 91,
   "metadata": {},
   "outputs": [
    {
     "name": "stdout",
     "output_type": "stream",
     "text": [
      "torch.Size([3, 4, 5])\n"
     ]
    }
   ],
   "source": [
    "x = torch.randn(3,4,5)\n",
    "print(x.shape)"
   ]
  },
  {
   "cell_type": "code",
   "execution_count": 107,
   "metadata": {},
   "outputs": [
    {
     "name": "stdout",
     "output_type": "stream",
     "text": [
      "torch.Size([3, 4, 5])\n",
      "torch.Size([5, 4, 3])\n"
     ]
    }
   ],
   "source": [
    "x = x.permute(1,0,2) # reorder dim \n",
    "print(x.shape)\n",
    "x = x.transpose(0,2) # switch dim\n",
    "print(x.shape) "
   ]
  },
  {
   "cell_type": "code",
   "execution_count": 110,
   "metadata": {},
   "outputs": [
    {
     "name": "stdout",
     "output_type": "stream",
     "text": [
      "torch.Size([3, 4, 5])\n",
      "torch.Size([12, 5])\n",
      "torch.Size([3, 20])\n"
     ]
    }
   ],
   "source": [
    "# view can use to reshape tensor\n",
    "x = torch.randn(3,4,5)\n",
    "print(x.shape)\n",
    "\n",
    "x = x.view(-1,5) # -1 means random dim, 5 means second dim is 5\n",
    "print(x.shape)\n",
    "\n",
    "x = x.view(3,20) # re shape to 3x20\n",
    "print(x.shape)"
   ]
  },
  {
   "cell_type": "code",
   "execution_count": 116,
   "metadata": {},
   "outputs": [
    {
     "name": "stdout",
     "output_type": "stream",
     "text": [
      "tensor([[-1.3657, -1.3020,  1.2477],\n",
      "        [-0.5706, -0.3902,  0.1070],\n",
      "        [-0.3458,  0.6335,  1.1375]])\n",
      "tensor([[ 0.3790, -0.4331, -1.0593],\n",
      "        [ 0.4093, -1.5421, -0.3548],\n",
      "        [-1.0418,  0.6036, -0.5606]])\n",
      "tensor([[-0.9867, -1.7352,  0.1883],\n",
      "        [-0.1613, -1.9324, -0.2478],\n",
      "        [-1.3876,  1.2371,  0.5769]])\n"
     ]
    }
   ],
   "source": [
    "x = torch.randn(3,3)\n",
    "y = torch.randn(3,3)\n",
    "z = x + y\n",
    "print(x)\n",
    "print(y)\n",
    "print(z)"
   ]
  },
  {
   "cell_type": "code",
   "execution_count": 121,
   "metadata": {},
   "outputs": [
    {
     "name": "stdout",
     "output_type": "stream",
     "text": [
      "torch.Size([3, 3])\n",
      "torch.Size([1, 3, 3])\n",
      "torch.Size([3, 1, 3])\n"
     ]
    }
   ],
   "source": [
    "# inplace can directly work on tensor instead create a new space\n",
    "x = torch.ones(3,3)\n",
    "print(x.shape) # 3x3\n",
    "\n",
    "# unsqueeze, add one dim\n",
    "x.unsqueeze_(0)\n",
    "print(x.shape)\n",
    "\n",
    "# transpose for inplace\n",
    "x.transpose_(1,0)\n",
    "print(x.shape)"
   ]
  },
  {
   "cell_type": "code",
   "execution_count": 163,
   "metadata": {},
   "outputs": [
    {
     "name": "stdout",
     "output_type": "stream",
     "text": [
      "tensor([[2., 2., 2.],\n",
      "        [2., 2., 2.],\n",
      "        [2., 2., 2.]])\n"
     ]
    }
   ],
   "source": [
    "x = torch.ones(3,3)\n",
    "y = torch.ones(3,3)\n",
    "\n",
    "# add for inplace\n",
    "x.add_(y)\n",
    "print(x)"
   ]
  },
  {
   "cell_type": "code",
   "execution_count": 164,
   "metadata": {},
   "outputs": [
    {
     "name": "stdout",
     "output_type": "stream",
     "text": [
      "tensor([[1., 1., 1., 1.],\n",
      "        [1., 2., 2., 1.],\n",
      "        [1., 2., 2., 1.],\n",
      "        [1., 1., 1., 1.]])\n"
     ]
    }
   ],
   "source": [
    "# create a float32, 4x4 with value 1 matrix, make mid part of 2x2 matrix with value 2\n",
    "x = torch.ones(4,4)\n",
    "x[1:3,1:3] = 2\n",
    "print(x)"
   ]
  },
  {
   "cell_type": "code",
   "execution_count": 165,
   "metadata": {},
   "outputs": [],
   "source": [
    "# Variable library, variable can be used to gradient and any computing\n",
    "from torch.autograd import Variable"
   ]
  },
  {
   "cell_type": "code",
   "execution_count": 166,
   "metadata": {},
   "outputs": [],
   "source": [
    "# define x and y\n",
    "x_tensor = torch.randn(10,5)\n",
    "y_tensor = torch.randn(10,5)\n",
    "\n",
    "# change x and y to Variable\n",
    "x = Variable(x_tensor,requires_grad = True) # default is False for gradient computing\n",
    "y = Variable(y_tensor,requires_grad = True)"
   ]
  },
  {
   "cell_type": "code",
   "execution_count": 167,
   "metadata": {},
   "outputs": [
    {
     "data": {
      "text/plain": [
       "tensor([[ 0.4727,  0.0637, -0.2291,  0.6896, -2.1302],\n",
       "        [-0.3594,  0.2741,  0.5791, -0.4704, -0.6463],\n",
       "        [-0.2596, -0.4783,  0.5116, -0.1030, -0.8699],\n",
       "        [ 1.5703,  1.1274,  1.2559, -2.1634, -0.0763],\n",
       "        [-0.9509, -1.7101,  0.5416, -0.1345, -0.8268],\n",
       "        [ 1.3830,  0.4051,  0.4051, -0.4933, -1.2775],\n",
       "        [-1.1551,  1.4249, -1.1194, -0.3202, -0.3122],\n",
       "        [-1.5247, -1.6821, -0.5349,  0.1374,  1.6493],\n",
       "        [-0.7931,  0.0909,  0.0120, -2.3522,  0.4346],\n",
       "        [-1.7045,  0.9004,  0.6871, -0.7136, -0.2776]])"
      ]
     },
     "execution_count": 167,
     "metadata": {},
     "output_type": "execute_result"
    }
   ],
   "source": [
    "x_tensor"
   ]
  },
  {
   "cell_type": "code",
   "execution_count": 168,
   "metadata": {},
   "outputs": [
    {
     "data": {
      "text/plain": [
       "tensor([[ 0.4727,  0.0637, -0.2291,  0.6896, -2.1302],\n",
       "        [-0.3594,  0.2741,  0.5791, -0.4704, -0.6463],\n",
       "        [-0.2596, -0.4783,  0.5116, -0.1030, -0.8699],\n",
       "        [ 1.5703,  1.1274,  1.2559, -2.1634, -0.0763],\n",
       "        [-0.9509, -1.7101,  0.5416, -0.1345, -0.8268],\n",
       "        [ 1.3830,  0.4051,  0.4051, -0.4933, -1.2775],\n",
       "        [-1.1551,  1.4249, -1.1194, -0.3202, -0.3122],\n",
       "        [-1.5247, -1.6821, -0.5349,  0.1374,  1.6493],\n",
       "        [-0.7931,  0.0909,  0.0120, -2.3522,  0.4346],\n",
       "        [-1.7045,  0.9004,  0.6871, -0.7136, -0.2776]], requires_grad=True)"
      ]
     },
     "execution_count": 168,
     "metadata": {},
     "output_type": "execute_result"
    }
   ],
   "source": [
    "x"
   ]
  },
  {
   "cell_type": "code",
   "execution_count": 169,
   "metadata": {},
   "outputs": [
    {
     "data": {
      "text/plain": [
       "tensor([[-0.8602, -0.3411,  1.0652, -0.6661, -1.1706],\n",
       "        [ 0.9351, -0.9966,  0.6410, -0.7332, -1.2258],\n",
       "        [ 1.1715, -1.7650, -0.7591, -0.4730,  1.1200],\n",
       "        [-0.7105, -1.2147, -0.3688,  1.1422,  0.1505],\n",
       "        [-0.4192,  0.0625, -1.2031, -1.2069, -0.2593],\n",
       "        [-0.2950, -0.5327, -0.3907, -2.2477,  0.5372],\n",
       "        [-0.4541,  0.0844, -0.5512,  1.1125,  0.1434],\n",
       "        [ 0.2408, -0.8233,  1.3704, -0.7477,  1.8917],\n",
       "        [ 0.2736, -0.2629,  1.8906, -1.2552, -0.1332],\n",
       "        [-0.7827, -1.4135, -0.0455, -1.1077, -0.5811]], requires_grad=True)"
      ]
     },
     "execution_count": 169,
     "metadata": {},
     "output_type": "execute_result"
    }
   ],
   "source": [
    "y"
   ]
  },
  {
   "cell_type": "code",
   "execution_count": 170,
   "metadata": {},
   "outputs": [
    {
     "data": {
      "text/plain": [
       "tensor([[-0.3876, -0.2774,  0.8362,  0.0235, -3.3008],\n",
       "        [ 0.5757, -0.7226,  1.2201, -1.2036, -1.8720],\n",
       "        [ 0.9119, -2.2433, -0.2475, -0.5760,  0.2501],\n",
       "        [ 0.8598, -0.0873,  0.8870, -1.0212,  0.0742],\n",
       "        [-1.3702, -1.6476, -0.6615, -1.3414, -1.0861],\n",
       "        [ 1.0880, -0.1276,  0.0144, -2.7410, -0.7403],\n",
       "        [-1.6091,  1.5093, -1.6706,  0.7923, -0.1688],\n",
       "        [-1.2838, -2.5054,  0.8355, -0.6103,  3.5410],\n",
       "        [-0.5195, -0.1719,  1.9026, -3.6073,  0.3014],\n",
       "        [-2.4872, -0.5132,  0.6416, -1.8213, -0.8587]], grad_fn=<AddBackward0>)"
      ]
     },
     "execution_count": 170,
     "metadata": {},
     "output_type": "execute_result"
    }
   ],
   "source": [
    "x+y"
   ]
  },
  {
   "cell_type": "code",
   "execution_count": 171,
   "metadata": {},
   "outputs": [],
   "source": [
    "z = torch.sum(x+y)"
   ]
  },
  {
   "cell_type": "code",
   "execution_count": 172,
   "metadata": {},
   "outputs": [
    {
     "name": "stdout",
     "output_type": "stream",
     "text": [
      "tensor(-23.2174)\n",
      "<SumBackward0 object at 0x123eed208>\n"
     ]
    }
   ],
   "source": [
    "print(z.data)\n",
    "print(z.grad_fn)"
   ]
  },
  {
   "cell_type": "code",
   "execution_count": 173,
   "metadata": {},
   "outputs": [],
   "source": [
    "# find gradient of x and y\n",
    "z.backward()"
   ]
  },
  {
   "cell_type": "code",
   "execution_count": 176,
   "metadata": {},
   "outputs": [
    {
     "name": "stdout",
     "output_type": "stream",
     "text": [
      "tensor([[1., 1., 1., 1., 1.],\n",
      "        [1., 1., 1., 1., 1.],\n",
      "        [1., 1., 1., 1., 1.],\n",
      "        [1., 1., 1., 1., 1.],\n",
      "        [1., 1., 1., 1., 1.],\n",
      "        [1., 1., 1., 1., 1.],\n",
      "        [1., 1., 1., 1., 1.],\n",
      "        [1., 1., 1., 1., 1.],\n",
      "        [1., 1., 1., 1., 1.],\n",
      "        [1., 1., 1., 1., 1.]])\n",
      "tensor([[1., 1., 1., 1., 1.],\n",
      "        [1., 1., 1., 1., 1.],\n",
      "        [1., 1., 1., 1., 1.],\n",
      "        [1., 1., 1., 1., 1.],\n",
      "        [1., 1., 1., 1., 1.],\n",
      "        [1., 1., 1., 1., 1.],\n",
      "        [1., 1., 1., 1., 1.],\n",
      "        [1., 1., 1., 1., 1.],\n",
      "        [1., 1., 1., 1., 1.],\n",
      "        [1., 1., 1., 1., 1.]])\n"
     ]
    }
   ],
   "source": [
    "print(x.grad)\n",
    "print(y.grad)"
   ]
  },
  {
   "cell_type": "code",
   "execution_count": 182,
   "metadata": {},
   "outputs": [
    {
     "data": {
      "image/png": "[encoded data removed]",
      "text/plain": [
       "<Figure size 432x288 with 1 Axes>"
      ]
     },
     "metadata": {
      "needs_background": "light"
     },
     "output_type": "display_data"
    }
   ],
   "source": [
    "# create a function y = x^2 and find the gradient of y\n",
    "import matplotlib.pyplot as plt\n",
    "x = np.arange(-3,3.01,0.1)\n",
    "y = x**2\n",
    "plt.plot(x,y)\n",
    "plt.plot(2,4,'ro')\n",
    "plt.show()"
   ]
  },
  {
   "cell_type": "code",
   "execution_count": 215,
   "metadata": {},
   "outputs": [
    {
     "name": "stdout",
     "output_type": "stream",
     "text": [
      "tensor([4.])\n",
      "<PowBackward0 object at 0x126db4780>\n"
     ]
    }
   ],
   "source": [
    "x = Variable(torch.FloatTensor([2]), requires_grad = True)\n",
    "y = x**2\n",
    "y.backward()\n",
    "print(x.grad)\n",
    "print(y.grad_fn)"
   ]
  },
  {
   "cell_type": "code",
   "execution_count": null,
   "metadata": {},
   "outputs": [],
   "source": []
  }
 ],
 "metadata": {
  "kernelspec": {
   "display_name": "Python 3",
   "language": "python",
   "name": "python3"
  },
  "language_info": {
   "codemirror_mode": {
    "name": "ipython",
    "version": 3
   },
   "file_extension": ".py",
   "mimetype": "text/x-python",
   "name": "python",
   "nbconvert_exporter": "python",
   "pygments_lexer": "ipython3",
   "version": "3.7.3"
  }
 },
 "nbformat": 4,
 "nbformat_minor": 2
}
