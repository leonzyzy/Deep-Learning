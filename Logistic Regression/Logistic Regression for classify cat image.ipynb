{
 "cells": [
  {
   "cell_type": "code",
   "execution_count": 1,
   "metadata": {},
   "outputs": [],
   "source": [
    "# import packages\n",
    "import numpy as np\n",
    "import matplotlib.pyplot as plt\n",
    "import h5py\n",
    "import scipy\n",
    "from PIL import Image\n",
    "from scipy import ndimage\n",
    "from lr_utils import load_dataset\n",
    "import imageio\n",
    "from skimage.transform import resize\n",
    "%matplotlib inline"
   ]
  },
  {
   "cell_type": "markdown",
   "metadata": {},
   "source": [
    "### You are given a dataset (\"data.h5\") containing:\n",
    "- a training set of m_train images labeled as cat (y=1) or non-cat (y=0)\n",
    "- a test set of m_test images labeled as cat or non-cat\n",
    "- each image is of shape (num_px, num_px, 3) where 3 is for the 3 channels (RGB). Thus, each image is square (height = num_px) and (width = num_px)."
   ]
  },
  {
   "cell_type": "code",
   "execution_count": 2,
   "metadata": {},
   "outputs": [],
   "source": [
    "# Loading the data (cat/non-cat)\n",
    "train_set_x_orig, train_set_y, test_set_x_orig, test_set_y, classes = load_dataset()"
   ]
  },
  {
   "cell_type": "code",
   "execution_count": 3,
   "metadata": {},
   "outputs": [
    {
     "name": "stdout",
     "output_type": "stream",
     "text": [
      "Feature shape: (209, 64, 64, 3)\n",
      "Label shape: (1, 209)\n"
     ]
    }
   ],
   "source": [
    "print(\"Feature shape: {}\".format(train_set_x_orig.shape))\n",
    "print(\"Label shape: {}\".format(train_set_y.shape))"
   ]
  },
  {
   "cell_type": "code",
   "execution_count": 4,
   "metadata": {},
   "outputs": [
    {
     "name": "stdout",
     "output_type": "stream",
     "text": [
      "y= [1] is a cat image\n"
     ]
    },
    {
     "data": {
      "image/png": "[encoded data removed]",
      "text/plain": [
       "<Figure size 432x288 with 1 Axes>"
      ]
     },
     "metadata": {
      "needs_background": "light"
     },
     "output_type": "display_data"
    }
   ],
   "source": [
    "# example of a image\n",
    "index = 7\n",
    "plt.imshow(train_set_x_orig[index])\n",
    "print('y= {} is a cat image'.format(train_set_y[:,index]))"
   ]
  },
  {
   "cell_type": "code",
   "execution_count": 5,
   "metadata": {},
   "outputs": [
    {
     "name": "stdout",
     "output_type": "stream",
     "text": [
      "Number of training examples: m_train = 209\n",
      "Number of testing examples: m_test = 50\n",
      "Height/Width of each image: num_px = 64\n",
      "Each image is of size: (64, 64, 3)\n",
      "train_set_x shape: (209, 64, 64, 3)\n",
      "train_set_y shape: (1, 209)\n",
      "test_set_x shape: (50, 64, 64, 3)\n",
      "test_set_y shape: (1, 50)\n"
     ]
    }
   ],
   "source": [
    "# check some values for m_train, m_test, num_px=height/width of the image\n",
    "m_train = train_set_x_orig.shape[0]\n",
    "m_test = test_set_x_orig.shape[0]\n",
    "num_px = train_set_x_orig.shape[1]\n",
    "\n",
    "print (\"Number of training examples: m_train = \" + str(m_train))\n",
    "print (\"Number of testing examples: m_test = \" + str(m_test))\n",
    "print (\"Height/Width of each image: num_px = \" + str(num_px))\n",
    "print (\"Each image is of size: (\" + str(num_px) + \", \" + str(num_px) + \", 3)\")\n",
    "print (\"train_set_x shape: \" + str(train_set_x_orig.shape))\n",
    "print (\"train_set_y shape: \" + str(train_set_y.shape))\n",
    "print (\"test_set_x shape: \" + str(test_set_x_orig.shape))\n",
    "print (\"test_set_y shape: \" + str(test_set_y.shape))"
   ]
  },
  {
   "cell_type": "code",
   "execution_count": 6,
   "metadata": {},
   "outputs": [
    {
     "name": "stdout",
     "output_type": "stream",
     "text": [
      "train_set_x_flatten shape: (12288, 209)\n",
      "train_set_y shape: (1, 209)\n",
      "test_set_x_flatten shape: (12288, 50)\n",
      "test_set_y shape: (1, 50)\n",
      "sanity check after reshaping: [17 31 56 22 33]\n"
     ]
    }
   ],
   "source": [
    "# reshape the training and test data, so that images of \n",
    "# size (num_px, num_px, 3) are flattened into single vectors \n",
    "# of shape (num_px*num_px*3,1)\n",
    "train_set_x_flatten = train_set_x_orig.reshape(train_set_x_orig.shape[0],-1).T\n",
    "test_set_x_flatten = test_set_x_orig.reshape(test_set_x_orig.shape[0],-1).T\n",
    "\n",
    "print (\"train_set_x_flatten shape: \" + str(train_set_x_flatten.shape))\n",
    "print (\"train_set_y shape: \" + str(train_set_y.shape))\n",
    "print (\"test_set_x_flatten shape: \" + str(test_set_x_flatten.shape))\n",
    "print (\"test_set_y shape: \" + str(test_set_y.shape))\n",
    "print (\"sanity check after reshaping: \" + str(train_set_x_flatten[0:5,0]))"
   ]
  },
  {
   "cell_type": "code",
   "execution_count": 7,
   "metadata": {},
   "outputs": [],
   "source": [
    "# standardize data set \n",
    "# To represent color images, the red, green and blue channels (RGB) must be specified for each pixel, \n",
    "# and so the pixel value is actually a vector of three numbers ranging from 0 to 255.\n",
    "train_set_x = train_set_x_flatten/255.\n",
    "test_set_x = test_set_x_flatten/255."
   ]
  },
  {
   "cell_type": "markdown",
   "metadata": {},
   "source": [
    "### train a logistc regression \n"
   ]
  },
  {
   "cell_type": "code",
   "execution_count": 8,
   "metadata": {},
   "outputs": [
    {
     "name": "stdout",
     "output_type": "stream",
     "text": [
      "dw = [[0.99993216]\n",
      " [1.99980262]]\n",
      "db = 0.49993523062470574\n",
      "cost = 6.000064773192205\n"
     ]
    }
   ],
   "source": [
    "# sigmoid function\n",
    "def sigmoid(z):\n",
    "    return 1.0/(1+np.exp(-z))\n",
    "\n",
    "# initializing parameters\n",
    "def initializing_with_zeros(d):\n",
    "    w = np.zeros((d,1))\n",
    "    b = 0\n",
    "    return w,b\n",
    "\n",
    "# forward propagation\n",
    "# Arguments:\n",
    "# w -- weights, d x 1\n",
    "# b -- bias, a scalar\n",
    "# X -- data of size d x m\n",
    "# Y -- label vector: 1 x m\n",
    "def propagate(w,b,X,Y):\n",
    "    # forward propagation\n",
    "    m = X.shape[1] \n",
    "    Z = np.dot(w.T,X)+b\n",
    "    A = sigmoid(Z)\n",
    "    # loss\n",
    "    L = -(Y*np.log(A)+(1-Y)*np.log(1-A))\n",
    "    # cost\n",
    "    J = np.sum(L)/m\n",
    "    \n",
    "    # backward propagation\n",
    "    dw = np.dot(X,(A-Y).T)/m\n",
    "    db = np.sum(A-Y)/m\n",
    "    \n",
    "    grads = {\"dw\":dw, \"db\":db}\n",
    "    return grads,J\n",
    "\n",
    "# test \n",
    "w, b, X, Y = np.array([[1],[2]]), 2, np.array([[1,2],[3,4]]), np.array([[1,0]])\n",
    "grads, cost = propagate(w, b, X, Y)\n",
    "print (\"dw = \" + str(grads[\"dw\"]))\n",
    "print (\"db = \" + str(grads[\"db\"]))\n",
    "print (\"cost = \" + str(cost))"
   ]
  },
  {
   "cell_type": "code",
   "execution_count": 9,
   "metadata": {},
   "outputs": [
    {
     "name": "stdout",
     "output_type": "stream",
     "text": [
      "w = [[0.1124579 ]\n",
      " [0.23106775]]\n",
      "b = 1.5593049248448891\n",
      "dw = [[0.90158428]\n",
      " [1.76250842]]\n",
      "db = 0.4304620716786828\n"
     ]
    }
   ],
   "source": [
    "# optimization function for gradient descent\n",
    "# Arguments:\n",
    "# w -- weights, d x 1\n",
    "# b -- bias, a scalar\n",
    "# X -- data of size d x m\n",
    "# Y -- label vector: 1 x m\n",
    "# epoch -- number of training times\n",
    "# eta -- learning rate\n",
    "def optimize(w,b,X,Y,num_epoch,eta,print_cost=False):\n",
    "    # This function optimizes w and b by running a gradient descent algorithm\n",
    "    costs = []\n",
    "    for epoch in range(num_epoch):\n",
    "        grads,J = propagate(w,b,X,Y)\n",
    "        # compute dw and db\n",
    "        dw = grads['dw']\n",
    "        db = grads['db']\n",
    "        \n",
    "        # updating w and b\n",
    "        w = w-eta*dw\n",
    "        b = b-eta*db\n",
    "        \n",
    "        # record cost\n",
    "        costs.append(J)\n",
    "        # print cost every 100 training\n",
    "        if print_cost and epoch % 100 == 0:\n",
    "            print (\"Cost after iteration %i: %f\" %(epoch, J))\n",
    "        \n",
    "        # save results\n",
    "        params = {\"w\": w,\"b\": b}\n",
    "        grads = {\"dw\": dw,\"db\": db}\n",
    "    return params, grads, costs\n",
    "params, grads, costs = optimize(w,b,X,Y,num_epoch= 100, eta = 0.009,print_cost = False)\n",
    "print (\"w = \" + str(params[\"w\"]))\n",
    "print (\"b = \" + str(params[\"b\"]))\n",
    "print (\"dw = \" + str(grads[\"dw\"]))\n",
    "print (\"db = \" + str(grads[\"db\"]))"
   ]
  },
  {
   "cell_type": "code",
   "execution_count": 10,
   "metadata": {},
   "outputs": [
    {
     "name": "stdout",
     "output_type": "stream",
     "text": [
      "predictions = [[1. 1.]]\n"
     ]
    }
   ],
   "source": [
    "# prediction\n",
    "# Arguments:\n",
    "# w -- weights, d x 1\n",
    "# b -- bias, a scalar\n",
    "# X -- data of size d x m\n",
    "def predict(w,b,X):\n",
    "    m = X.shape[1]\n",
    "    Y_prediction = np.zeros((1,m))\n",
    "    w = w.reshape(X.shape[0],1)\n",
    "    \n",
    "    # Compute vector \"A\" predicting the probabilities of a cat being present in the picture\n",
    "    A = sigmoid(np.dot(w.T,X)+b)\n",
    "    for i in range(A.shape[1]):\n",
    "        Y_prediction = np.round(A)\n",
    "    return Y_prediction\n",
    "print (\"predictions = \" + str(predict(w, b, X)))"
   ]
  },
  {
   "cell_type": "markdown",
   "metadata": {},
   "source": [
    "### Merge all functions into a model"
   ]
  },
  {
   "cell_type": "code",
   "execution_count": 11,
   "metadata": {},
   "outputs": [
    {
     "name": "stdout",
     "output_type": "stream",
     "text": [
      "Cost after iteration 0: 0.693147\n",
      "Cost after iteration 100: 0.584508\n",
      "Cost after iteration 200: 0.466949\n",
      "Cost after iteration 300: 0.376007\n",
      "Cost after iteration 400: 0.331463\n",
      "Cost after iteration 500: 0.303273\n",
      "Cost after iteration 600: 0.279880\n",
      "Cost after iteration 700: 0.260042\n",
      "Cost after iteration 800: 0.242941\n",
      "Cost after iteration 900: 0.228004\n",
      "Cost after iteration 1000: 0.214820\n",
      "Cost after iteration 1100: 0.203078\n",
      "Cost after iteration 1200: 0.192544\n",
      "Cost after iteration 1300: 0.183033\n",
      "Cost after iteration 1400: 0.174399\n",
      "Cost after iteration 1500: 0.166521\n",
      "Cost after iteration 1600: 0.159305\n",
      "Cost after iteration 1700: 0.152667\n",
      "Cost after iteration 1800: 0.146542\n",
      "Cost after iteration 1900: 0.140872\n",
      "Cost after iteration 2000: 0.135608\n",
      "Cost after iteration 2100: 0.130708\n",
      "Cost after iteration 2200: 0.126137\n",
      "Cost after iteration 2300: 0.121861\n",
      "Cost after iteration 2400: 0.117855\n",
      "Cost after iteration 2500: 0.114093\n",
      "Cost after iteration 2600: 0.110554\n",
      "Cost after iteration 2700: 0.107219\n",
      "Cost after iteration 2800: 0.104072\n",
      "Cost after iteration 2900: 0.101097\n",
      "Cost after iteration 3000: 0.098280\n",
      "Cost after iteration 3100: 0.095610\n",
      "Cost after iteration 3200: 0.093075\n",
      "Cost after iteration 3300: 0.090667\n",
      "Cost after iteration 3400: 0.088374\n",
      "Cost after iteration 3500: 0.086190\n",
      "Cost after iteration 3600: 0.084108\n",
      "Cost after iteration 3700: 0.082119\n",
      "Cost after iteration 3800: 0.080219\n",
      "Cost after iteration 3900: 0.078402\n",
      "Cost after iteration 4000: 0.076662\n",
      "Cost after iteration 4100: 0.074994\n",
      "Cost after iteration 4200: 0.073395\n",
      "Cost after iteration 4300: 0.071860\n",
      "Cost after iteration 4400: 0.070385\n",
      "Cost after iteration 4500: 0.068968\n",
      "Cost after iteration 4600: 0.067604\n",
      "Cost after iteration 4700: 0.066291\n",
      "Cost after iteration 4800: 0.065027\n",
      "Cost after iteration 4900: 0.063807\n",
      "train accuracy: 100.0 %\n",
      "test accuracy: 70.0 %\n"
     ]
    }
   ],
   "source": [
    "# implement model fumction based on notation\n",
    "# - y_prediction_test for your predictions on the test set\n",
    "# - y_prediction_train for your predictions on the train set\n",
    "# - w, costs, grads for the outputs of optimize()\n",
    "\n",
    "# X_train -- training feature, d x m1\n",
    "# y_train -- training label, 1 x m1\n",
    "# X_test -- training feature, d x m2\n",
    "# y_test -- training label, 1 x m2\n",
    "# num_epoch -- number of traning times\n",
    "# eta -- learning rate\n",
    "# print_cost -- set to true to print the cost every 100 iterations\n",
    "# Returns:\n",
    "# d -- dictionary containing information about the model.\n",
    "def model(X_train,y_train,X_test,y_test,num_epoch = 2000,eta = 0.5,print_cost = False):\n",
    "    # initialize weight and bias \n",
    "    # w: d x 1\n",
    "    # b: scalar\n",
    "    w,b = initializing_with_zeros(X_train.shape[0])\n",
    "    \n",
    "    # gradient descent\n",
    "    params, grads, costs = optimize(w,b,X_train,y_train,num_epoch,eta,print_cost=True)\n",
    "    w = params['w']\n",
    "    b = params['b']\n",
    "    \n",
    "    # predict train/test\n",
    "    y_prediction_train = predict(w,b,X_train)\n",
    "    y_prediction_test = predict(w,b,X_test)\n",
    "    \n",
    "    # print results\n",
    "    print(\"train accuracy: {} %\".format(100-np.mean(np.abs(y_prediction_train-y_train))*100))\n",
    "    print(\"test accuracy: {} %\".format(100-np.mean(np.abs(y_prediction_test-y_test))*100))\n",
    "    \n",
    "    # pack results information of model\n",
    "    d = {\"costs\": costs,\n",
    "         \"y_prediction_train\": y_prediction_train,\n",
    "         \"y_prediction_test\": y_prediction_test,\n",
    "         \"w\": w,\n",
    "         \"b\": b,\n",
    "         \"eta\": eta,\n",
    "         \"num_epoch\": num_epoch\n",
    "        }\n",
    "    return d\n",
    "\n",
    "d = model(train_set_x,train_set_y,test_set_x,test_set_y,num_epoch=5000,eta =0.005,print_cost=True)"
   ]
  },
  {
   "cell_type": "code",
   "execution_count": 12,
   "metadata": {},
   "outputs": [
    {
     "data": {
      "image/png": "[encoded data removed]",
      "text/plain": [
       "<Figure size 432x288 with 1 Axes>"
      ]
     },
     "metadata": {
      "needs_background": "light"
     },
     "output_type": "display_data"
    }
   ],
   "source": [
    "# plot learning curve\n",
    "costs = np.array(d['costs'])\n",
    "plt.plot(costs)\n",
    "plt.ylabel('cost')\n",
    "plt.xlabel('iterations (per hundreds)')\n",
    "plt.title(\"Learning rate =\" + str(d[\"eta\"]))\n",
    "plt.show()"
   ]
  },
  {
   "cell_type": "code",
   "execution_count": 13,
   "metadata": {},
   "outputs": [
    {
     "data": {
      "image/png": "[encoded data removed]",
      "text/plain": [
       "<Figure size 432x288 with 1 Axes>"
      ]
     },
     "metadata": {
      "needs_background": "light"
     },
     "output_type": "display_data"
    }
   ],
   "source": [
    "# testing with my own image\n",
    "my_image = 'mycat.jpg'\n",
    "image = np.array(imageio.imread(my_image))\n",
    "image_data = resize(image,output_shape=(num_px,num_px))\n",
    "# show image_data\n",
    "plt.imshow(image_data)\n",
    "plt.show()"
   ]
  },
  {
   "cell_type": "code",
   "execution_count": 14,
   "metadata": {},
   "outputs": [
    {
     "name": "stdout",
     "output_type": "stream",
     "text": [
      "prediction result: 1.0 (1 is a cat)\n"
     ]
    }
   ],
   "source": [
    "# preprocessing the image data to fit model\n",
    "test_image = image_data.reshape(1,image_data.shape[0]*image_data.shape[1]*image_data.shape[2]).T\n",
    "\n",
    "# predict\n",
    "predict_image = predict(d['w'],d['b'],test_image)\n",
    "print('prediction result: {} (1 is a cat)'.format(predict_image[0][0]))"
   ]
  }
 ],
 "metadata": {
  "kernelspec": {
   "display_name": "Python 3",
   "language": "python",
   "name": "python3"
  },
  "language_info": {
   "codemirror_mode": {
    "name": "ipython",
    "version": 3
   },
   "file_extension": ".py",
   "mimetype": "text/x-python",
   "name": "python",
   "nbconvert_exporter": "python",
   "pygments_lexer": "ipython3",
   "version": "3.7.3"
  }
 },
 "nbformat": 4,
 "nbformat_minor": 2
}
